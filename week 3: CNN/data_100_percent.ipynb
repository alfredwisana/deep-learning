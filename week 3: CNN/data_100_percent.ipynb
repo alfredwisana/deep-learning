{
 "cells": [
  {
   "cell_type": "markdown",
   "metadata": {
    "colab_type": "text",
    "id": "view-in-github"
   },
   "source": [
    "<a href=\"https://colab.research.google.com/github/alfredwisana/deep-learning/blob/main/week%203%3A%20CNN/data_100_percent.ipynb\" target=\"_parent\"><img src=\"https://colab.research.google.com/assets/colab-badge.svg\" alt=\"Open In Colab\"/></a>"
   ]
  },
  {
   "cell_type": "code",
   "execution_count": 20,
   "metadata": {
    "id": "OsiXpTJ5-0Zz",
    "outputId": "767f66ac-9f5c-4d16-834e-d116c53faa05"
   },
   "outputs": [],
   "source": [
    "import tensorflow as tf\n",
    "import keras\n",
    "import matplotlib.pyplot as plt\n",
    "import numpy as np\n",
    "import pandas as pd\n",
    "import tensorflow_datasets as tfds\n",
    "\n",
    "from sklearn.model_selection import train_test_split"
   ]
  },
  {
   "cell_type": "code",
   "execution_count": 21,
   "metadata": {},
   "outputs": [
    {
     "name": "stdout",
     "output_type": "stream",
     "text": [
      "Num GPUs Available:  1\n"
     ]
    }
   ],
   "source": [
    "print(\"Num GPUs Available: \", len(tf.config.list_physical_devices('GPU')))"
   ]
  },
  {
   "cell_type": "markdown",
   "metadata": {
    "id": "EjCeCVGh-0Z1"
   },
   "source": [
    "READ DATA"
   ]
  },
  {
   "cell_type": "code",
   "execution_count": 9,
   "metadata": {
    "id": "Qc7PacLw-0Z2"
   },
   "outputs": [],
   "source": [
    "(train_data, test_data), ds_info = tfds.load(name=\"emnist/digits\",\n",
    "                                             split=[\"train\", \"test\"],\n",
    "                                             shuffle_files=True,\n",
    "                                             as_supervised=True, # Data gets returned in tuple format (data, label)\n",
    "                                             with_info=True)"
   ]
  },
  {
   "cell_type": "markdown",
   "metadata": {
    "id": "rUpvcjHj-0Z2"
   },
   "source": [
    "Data Pre Processing"
   ]
  },
  {
   "cell_type": "code",
   "execution_count": 22,
   "metadata": {},
   "outputs": [
    {
     "data": {
      "text/plain": [
       "['0', '1', '2', '3', '4', '5', '6', '7', '8', '9']"
      ]
     },
     "execution_count": 22,
     "metadata": {},
     "output_type": "execute_result"
    }
   ],
   "source": [
    "class_names = ds_info.features[\"label\"].names\n",
    "class_names"
   ]
  },
  {
   "cell_type": "code",
   "execution_count": 23,
   "metadata": {},
   "outputs": [
    {
     "name": "stderr",
     "output_type": "stream",
     "text": [
      "2024-03-02 11:42:23.102312: W tensorflow/core/kernels/data/cache_dataset_ops.cc:858] The calling iterator did not fully read the dataset being cached. In order to avoid unexpected truncation of the dataset, the partially cached contents of the dataset  will be discarded. This can happen if you have an input pipeline similar to `dataset.cache().take(k).repeat()`. You should use `dataset.take(k).cache().repeat()` instead.\n"
     ]
    },
    {
     "data": {
      "text/html": [
       "<style type=\"text/css\">\n",
       "</style>\n",
       "<table id=\"T_2b036\">\n",
       "  <thead>\n",
       "    <tr>\n",
       "      <th class=\"blank level0\" >&nbsp;</th>\n",
       "      <th id=\"T_2b036_level0_col0\" class=\"col_heading level0 col0\" >image</th>\n",
       "      <th id=\"T_2b036_level0_col1\" class=\"col_heading level0 col1\" >label</th>\n",
       "    </tr>\n",
       "  </thead>\n",
       "  <tbody>\n",
       "    <tr>\n",
       "      <th id=\"T_2b036_level0_row0\" class=\"row_heading level0 row0\" >0</th>\n",
       "      <td id=\"T_2b036_row0_col0\" class=\"data row0 col0\" ><img src=\"data:image/png;base64,iVBORw0KGgoAAAANSUhEUgAAABwAAAAcCAAAAABXZoBIAAAB+klEQVR4nJ2ST2sTURTFz3tvJjN1bKJJG5KY1tG0iWgLqRu7sYj/wI3SuhCigp+h7twEXPkR7MbsXBghFMmqKMUuDAilYF04jVYRMi21TUo6TDIz78XFJFpKVr2bs/hx7uVwD3DcIT0Nq7uto5B2VZm+k1bpUer71IfG3tqzG31p9J7Bhai9ifVZS+LZBAFCmZTcx1ioCntnx2uvTAIAGD3kjGVjMCsVh6XSDCDKSFj5Z5SeWvwgPzVe2nKLUUZSucqr3EDv7PBbz1s8r7D7RXdrbjhaMLi1kVP8tVTTiTC2Hb6x7gyeC8WzCaImbg5SQALkcLhT/2R3YJRmL10jly8oIAMzo5YNAPq85XzLAICat1r1lmhv/mlb8zpAAVmTAAEA7teDQDDA98tfmpIm+1EoIbKuhwG++hsEv8ovyj994Kc+s7DwSAL2Vjn4u5fm8kcOAJIfR056SdlDJEYASVOY/0kJgOiASMnbr43gk+sU7MHM+7EJ1oWN9Xq0AzXzvHr2qrrbigwNXSTUbrqABDS/1yIMCExPaKedinklHWBAc9PqtuBucc0WQgjhLY6fypZqHrcKUebfdCry5GOdAHCNml39HGInzKV93isYU2bzcWo2PpRXBCLBqZEfSy38b596a4wsN8y2AABKOgKHIImcxLbr9SvYceYv8R2zdomcCP8AAAAASUVORK5CYII=\" alt=\"Img\" /></td>\n",
       "      <td id=\"T_2b036_row0_col1\" class=\"data row0 col1\" >8</td>\n",
       "    </tr>\n",
       "    <tr>\n",
       "      <th id=\"T_2b036_level0_row1\" class=\"row_heading level0 row1\" >1</th>\n",
       "      <td id=\"T_2b036_row1_col0\" class=\"data row1 col0\" ><img src=\"data:image/png;base64,iVBORw0KGgoAAAANSUhEUgAAABwAAAAcCAAAAABXZoBIAAABkElEQVR4nM2RTUsVYRiGr5l3hhFPcyQ/klOZHihCUCw3WlIECWJoH7uiVb/AVW2KoEU/oU2IrVxLS1EKcmO0ynMiCjI1pBN+HK239MzM+7wtZlwU5wd4by/u536e54ZDJgfAdQGRujAIjwI72+Z/6IEaGbvkIqXp0qrJppAcONueXT4GmNXSi9m4dagYInpmJXPmiiFirTpxZOOdvnCnmEd+fvlmUujnfVkoRcNn227WkvFOBZh75eU09synKHrS3TjwuipxLCKSJKIfN6ROAEn2fwMKwFadMOgJI8lgrFXv/YEAx9otvfn8/LXO/g69hweI/fHx3IPuAMey8ej9phltpHBlewUPdj4052+f7FVgsUtzlabrQ814OR9c0F9/5fpPARjw29svjjUpIh2DB7U3+b7pP+MjUnl1tTA4WTndoTDzL7+nqwatXQ1e3/zU3ZaHC3tiRMR8vqGyU2px1bA+s1beXeR4lwN2/+2SOagMAGUFFdyaCF12y0+X7T8wiyj4EOstSx2YfqVO8YdCfwGckZ4Li2INiAAAAABJRU5ErkJggg==\" alt=\"Img\" /></td>\n",
       "      <td id=\"T_2b036_row1_col1\" class=\"data row1 col1\" >8</td>\n",
       "    </tr>\n",
       "    <tr>\n",
       "      <th id=\"T_2b036_level0_row2\" class=\"row_heading level0 row2\" >2</th>\n",
       "      <td id=\"T_2b036_row2_col0\" class=\"data row2 col0\" ><img src=\"data:image/png;base64,iVBORw0KGgoAAAANSUhEUgAAABwAAAAcCAAAAABXZoBIAAABaElEQVR4nJXRv0sCYRgH8O+99x5nQgYa5yLmIgWRRS01RIFNaUjNwoE0tdXYYkNTUwTNLf0NBhX0g5ZaFApCpSICpfxFUXLn3b3XEJ0GvoHP9vDh+/I87wP0XiIBANLVXKmYl5ej6+Znmpv0EHeccpDdMnh4SXZngT9Q4/0fNAz7g4uSZF2YHJQXvUap3RIRACD8dKEblos4z8qJlAyATCkCAMgD5knRya20tDAgJoqFJQJI281sxJlWnqECAF8yNDRBgMCqtJt3MBDH/QuEtZgoEMCtKvWM7qBHNk81+JIuoF8i0aT93AAAUAB03m+UII0GIdA5vxYNVvZNZ49IjuWH+9Sy/lRlhdmsoW+62ktufLH8mFq0sgt7rHamswel40PSLbt2ZejlcXG5xVj9KIG/yCwjp8oYzFRed6bpL1AAzLbt2vnhsY7qVrh52WCdyclH7SDS/TxA6PptROIYBCUq8wzOqXqqb+/Oe0JLSPW1AAAAAElFTkSuQmCC\" alt=\"Img\" /></td>\n",
       "      <td id=\"T_2b036_row2_col1\" class=\"data row2 col1\" >3</td>\n",
       "    </tr>\n",
       "    <tr>\n",
       "      <th id=\"T_2b036_level0_row3\" class=\"row_heading level0 row3\" >3</th>\n",
       "      <td id=\"T_2b036_row3_col0\" class=\"data row3 col0\" ><img src=\"data:image/png;base64,iVBORw0KGgoAAAANSUhEUgAAABwAAAAcCAAAAABXZoBIAAABiklEQVR4nGNgoCUQFEDiMDFDGSwMDAwMDMyWb07/h8mJ2Mof/vT7+U+4Yl42GItdqeD+h5tXT0ZxMDAwopnP7J2xxu79B76Av8Vb/7GgyrFqJaneZt13n5Mhw2A7miSj1hSTf84X3v75x8DIxMDAhCzHJF5gws7w+ehXzoAApn8w1zIwcEiwMjBp23mzM7y76PWPtVL+3oV/UEkWuRhfPgYGAUEWxv9CzjyB3yTuNe6GSsqF2Dtz/f/LxMTA8P/PJ0XZU5sFb+/+wcDAwsDAKOpWIsb08+Z+A1um3zd2HT+t/OAx479/EOvEZt37+e/LYn2R/t9/z9twMiH7nSnwxb9/9+oVWXzv/L0bzY7qb5ban/9+dfMwivX//FTPhSrFwMDEyPD++DfO1MhPMxd+Q5FkYmD495/h403OwCTRd0sfoBnK8O/KezGh9N8BCgyfvjNgALFZL37++vXv+61KDkxJRrGg7rt/f28wEcaUY2BgYOKOf3jOjxmrHAMDg0i8LjsuOQYGnNpoAAAV24WOoQigsAAAAABJRU5ErkJggg==\" alt=\"Img\" /></td>\n",
       "      <td id=\"T_2b036_row3_col1\" class=\"data row3 col1\" >8</td>\n",
       "    </tr>\n",
       "    <tr>\n",
       "      <th id=\"T_2b036_level0_row4\" class=\"row_heading level0 row4\" >4</th>\n",
       "      <td id=\"T_2b036_row4_col0\" class=\"data row4 col0\" ><img src=\"data:image/png;base64,iVBORw0KGgoAAAANSUhEUgAAABwAAAAcCAAAAABXZoBIAAABaklEQVR4nNVRP0sCcRh+7k/eKZFQISkEplwQVkYQOLU0VIsNQcQ5+Cnag9r6BuHWEjXY6BBNgWWBLWF2i0HWZTUoSt6dv/fXcGYSfYB6tpeH58/7vsAfg/Bjlob99abT+YVUgp7ZjVip8nRatvkPlS9VuHtxqGO3inpUACD36bSVKY8kQhRlbRWPVn+4Vy9+EJFt23aHmsW48J0pRBLbEQG8ctKQ1KU5wTrceuvpogcGI2oZqcHQ5u4DEZW0XqaaSIQEsOrlBS2sTwYAiL0qgbTBiGrHaxOqfu8QEVFZ6y6e3DcZUWNnTEK4wIg4J7oKu2QkaxI5tZ0wAK1MnHMie88LiIAYm/EDVjX3/L0Yt0wHkAFpfnwAVjZ3bQFw6hwAXvNZ976jRx1ixbjP7aYbjJi5n5Rci5FMi5lppWvo1QvGbTqgwL1t82wxaN7YXbKdDwbU83f29TJ1ebqeaffKyLLS6HuYqA7hX+AT4TWeAQPG6XUAAAAASUVORK5CYII=\" alt=\"Img\" /></td>\n",
       "      <td id=\"T_2b036_row4_col1\" class=\"data row4 col1\" >6</td>\n",
       "    </tr>\n",
       "    <tr>\n",
       "      <th id=\"T_2b036_level0_row5\" class=\"row_heading level0 row5\" >5</th>\n",
       "      <td id=\"T_2b036_row5_col0\" class=\"data row5 col0\" ><img src=\"data:image/png;base64,iVBORw0KGgoAAAANSUhEUgAAABwAAAAcCAAAAABXZoBIAAABSklEQVR4nN2RzyuDcQDGP/u+m/mZAyMOsrXRLE3IQW5WSon0ujjgoPwBXOQkztrBUa1clGLhtmTlJmtclh8HQqvZGGYz217fOQwnypXn+Dz11PN54N9IB4AQAFrB0gNI+RHqTD0OAYmtqzcwNrsqQB77MgAYnJ5IJh0OXW6qltKa8aNUNpvNBJ2FTsd+Wia9qn3iJHy4tBHJpS6imkx7qgHE8K28W7QoFA+4YzlN8890qruaPLEB6KdfZMAKIBznMp9brtfp1ag8s4GAUkXzhwGEvVKLxYcma7lO8pwDPTL0aAhlgeK+qcTqAV39LT5XXXonAkDT6ct8CRhHz8Nz5UKUDa4FHqJ7rYXRpvVMwCqUtuDTQg2AYupwj5kNhVD0em/c6oj3aqHxE1tl0Rc+xTzbbbjPb69Ev2Orq2poD8Yjrz8doPz+qz+pd/1beTyJwCBPAAAAAElFTkSuQmCC\" alt=\"Img\" /></td>\n",
       "      <td id=\"T_2b036_row5_col1\" class=\"data row5 col1\" >8</td>\n",
       "    </tr>\n",
       "    <tr>\n",
       "      <th id=\"T_2b036_level0_row6\" class=\"row_heading level0 row6\" >6</th>\n",
       "      <td id=\"T_2b036_row6_col0\" class=\"data row6 col0\" ><img src=\"data:image/png;base64,iVBORw0KGgoAAAANSUhEUgAAABwAAAAcCAAAAABXZoBIAAABvUlEQVR4nJWRsU8UQRSHv51duFNOA4a70IjcamJjQOgsTEi0MYSgp6WJf4GxoLASYmlhQbSykESsgOQw2mkMkQITjV40xhyeFBhlPTSKx4l7s/vWYne5NUDha2bmfe83v/dm4H9DmeFqbEfGof7s4pK7sy5/z1l/Nax2ZK2jNRH3mgVsKzBPntkDXj2RaunpSYU7u9iQQCoDiR76nj4fUgDpsQ0JRE9nEz1Mba6eVQC9JZFAnPPmFrOLunopBZCb0RLI7/H0FkuPbfgvbQAKjgQipd4QKKBreK/78AsAJw4Af4pLTcf+j35Ua71IClGg8hn/yYfwuP8foQKV30dNhyMBfF/QTUjGig3a24HOy4NRwgJquiWCBzvwzNRQpuPZWhAqvflVlAGQK5jf7r9Z8wZv37Djv8xOu7M5oPWKo2e6jxWuL/v1qXxsNVDZnBtp67pTlQc2YJ567LnjsVXn3bqu3JyoioxaANaFr95s/PTG4UlHNxri/YrGP1qWd0fCbgmWrz66eFqtlBbLsZO8X48gQXXu9Ygx/+mHF97U3ea//UkiLKu5P17+fE7FSgAvUbhyy1gQdgvT3BXF8RfthaWeyJNw/AAAAABJRU5ErkJggg==\" alt=\"Img\" /></td>\n",
       "      <td id=\"T_2b036_row6_col1\" class=\"data row6 col1\" >2</td>\n",
       "    </tr>\n",
       "    <tr>\n",
       "      <th id=\"T_2b036_level0_row7\" class=\"row_heading level0 row7\" >7</th>\n",
       "      <td id=\"T_2b036_row7_col0\" class=\"data row7 col0\" ><img src=\"data:image/png;base64,iVBORw0KGgoAAAANSUhEUgAAABwAAAAcCAAAAABXZoBIAAABsUlEQVR4nJWSP2hTcRDHP/fL7xEftE2MqaUUsSjRoTYogoNLHXQSqe3YxcXNpbtC3O3g5lgwKIIUXKWTWlzEdjHoEDS4GKUGbX3S915655A/KLwO3nLDh7v78v0e/Hd5D4BkoPzpy/asZZlj7tpmtFs/mTUG4b1ENVo9mgmn36ipthccbqghGK9UygL8ehebUKo6/FBDYWZWX935Bt/vn6v+I3RpK0q6qu0beSBcScySmu+v9cvV0OeE8VuTQLo7OAVAUBYBhEIAyEBIrx+bwswMirMOpq56zLQPw4s54lYHKM44KJWAHw3FAfmF225vbekxiDjwlyb+gpPLJ3T97tsWwGiAFAKA/tojZbGPX7ovuuCvnJfDZ5zATgrAodpv1eZ8rhKrabx14WZbTZOVEIDKezVNV4thU81U066qaXvRgYOxPIh9juLNfUPE50RMNzYUHH5uAkBNH32yXsLG9stOz6HRAAzg+UjtuHhQTR886Q7t6/m5t7ZztjA3po3Gz4fbfQMXv6qmTwfBe++HGQOnPqg253MZP+Gg8zpK6+v7GVBApq+P1FsZbHDnQHRw/QFtQ6wtP0zGaAAAAABJRU5ErkJggg==\" alt=\"Img\" /></td>\n",
       "      <td id=\"T_2b036_row7_col1\" class=\"data row7 col1\" >5</td>\n",
       "    </tr>\n",
       "    <tr>\n",
       "      <th id=\"T_2b036_level0_row8\" class=\"row_heading level0 row8\" >8</th>\n",
       "      <td id=\"T_2b036_row8_col0\" class=\"data row8 col0\" ><img src=\"data:image/png;base64,iVBORw0KGgoAAAANSUhEUgAAABwAAAAcCAAAAABXZoBIAAABZUlEQVR4nM2RzyuDcRzH35/v8+z50vbM9xkza1MbsbA2iYPLlBQHq50UKSdHJX+Ao6ujmwNXh90oQklZyUUS4UAxP4s9wpc9j8PWRHPf+/h+9f786A1UmKi8rdq2VR6SFhmQhzsW1DKQ+1PJJ7Zr/bEVFQBLLpr52xUvfiXdnqRj/eaBmtqrSXSI+4LLFCKA9c9mXzenFDRN3FnypAVgALin0aWrIF9UVPkE4fbILN4MKIPDnfuZrUvWGtOgMkDmPkvQM57wRrMcRswAwJQv0SGK6wBnWCeVQP5mHXAIg/Swq5R0uB0EoHY6woHAqHshnuD4eP4svUKeYHUvtx/NBmOkz6Wzt/TqTQFatk1R80Cz5d75kIsHCPnrtYwECKib627jlnz0mleTxz1acObsomYj/W4XRtbHl3NS5l/mxwwQVfWFnEL7qYxCKeHs2l7KvgMA2b/75H7u7MqcypL9V8p/oIL0DVEFYnR5fw/KAAAAAElFTkSuQmCC\" alt=\"Img\" /></td>\n",
       "      <td id=\"T_2b036_row8_col1\" class=\"data row8 col1\" >3</td>\n",
       "    </tr>\n",
       "    <tr>\n",
       "      <th id=\"T_2b036_level0_row9\" class=\"row_heading level0 row9\" >9</th>\n",
       "      <td id=\"T_2b036_row9_col0\" class=\"data row9 col0\" ><img src=\"data:image/png;base64,iVBORw0KGgoAAAANSUhEUgAAABwAAAAcCAAAAABXZoBIAAABO0lEQVR4nGNgGFDAwoIuwghjMAvH/J/2E6sudt81L/79VMMqx2x9/s/fj79dGTGlmMSCL/7892LhN0N0VzAwOGbaCzH/udOo+v8LpqSNL/vviwcO7in78AFT8v2964dm/GJg4P3wHtNKIRVRFgYGBpbTN5A8ysTCxMDAwsDw7h2EzweXERHytdQ+lPkPI1QYGFgFOy1l2Rk/MzKgSbIwCHlWCooyMDB83/IXVZJVKIZXz1qMgYHh/4OFBxngkkwKgcK8F/lFGRgYvu47x/Bpw32Eady+Gz//+/fv379/3y4UK7FAI4iRgcHXgN9eWJKdgeHPk9//Lrfc+gHXw8jActSAkYWB4c//67tXfGL48Bo1hARYGRn+f5v5YePt7xjB9+/APyaGp7XH/mP6mJGBQUSQgeH309+YcgMCABrRZjsmZxCxAAAAAElFTkSuQmCC\" alt=\"Img\" /></td>\n",
       "      <td id=\"T_2b036_row9_col1\" class=\"data row9 col1\" >4</td>\n",
       "    </tr>\n",
       "  </tbody>\n",
       "</table>\n"
      ],
      "text/plain": [
       "                                               image  label\n",
       "0  [[[0], [0], [0], [0], [0], [0], [0], [0], [0],...      8\n",
       "1  [[[0], [0], [0], [0], [0], [0], [0], [0], [0],...      8\n",
       "2  [[[0], [0], [0], [0], [0], [0], [0], [0], [0],...      3\n",
       "3  [[[0], [0], [0], [0], [0], [0], [0], [0], [0],...      8\n",
       "4  [[[0], [0], [0], [0], [0], [0], [0], [0], [0],...      6\n",
       "5  [[[0], [0], [0], [0], [0], [0], [0], [0], [0],...      8\n",
       "6  [[[0], [0], [0], [0], [0], [0], [0], [0], [0],...      2\n",
       "7  [[[0], [0], [0], [0], [0], [0], [0], [0], [0],...      5\n",
       "8  [[[0], [0], [0], [0], [0], [0], [0], [0], [0],...      3\n",
       "9  [[[0], [0], [0], [0], [0], [0], [0], [0], [0],...      4"
      ]
     },
     "execution_count": 23,
     "metadata": {},
     "output_type": "execute_result"
    }
   ],
   "source": [
    "tfds.as_dataframe(train_data.take(10), ds_info)"
   ]
  },
  {
   "cell_type": "code",
   "execution_count": 24,
   "metadata": {},
   "outputs": [
    {
     "name": "stderr",
     "output_type": "stream",
     "text": [
      "2024-03-02 11:42:26.020414: W tensorflow/core/kernels/data/cache_dataset_ops.cc:858] The calling iterator did not fully read the dataset being cached. In order to avoid unexpected truncation of the dataset, the partially cached contents of the dataset  will be discarded. This can happen if you have an input pipeline similar to `dataset.cache().take(k).repeat()`. You should use `dataset.take(k).cache().repeat()` instead.\n"
     ]
    },
    {
     "data": {
      "image/png": "[encoded data removed]",
      "text/plain": [
       "<Figure size 900x900 with 9 Axes>"
      ]
     },
     "metadata": {},
     "output_type": "display_data"
    },
    {
     "data": {
      "image/png": "[encoded data removed]",
      "text/plain": [
       "<Figure size 900x900 with 9 Axes>"
      ]
     },
     "execution_count": 24,
     "metadata": {},
     "output_type": "execute_result"
    }
   ],
   "source": [
    "tfds.show_examples(train_data, ds_info)"
   ]
  },
  {
   "cell_type": "code",
   "execution_count": 25,
   "metadata": {},
   "outputs": [
    {
     "data": {
      "text/plain": [
       "<_PrefetchDataset element_spec=(TensorSpec(shape=(28, 28, 1), dtype=tf.uint8, name=None), TensorSpec(shape=(), dtype=tf.int64, name=None))>"
      ]
     },
     "execution_count": 25,
     "metadata": {},
     "output_type": "execute_result"
    }
   ],
   "source": [
    "test_data"
   ]
  },
  {
   "cell_type": "code",
   "execution_count": 26,
   "metadata": {},
   "outputs": [],
   "source": [
    "def preprocess_image(image, label):\n",
    "  # One Hot Encoding\n",
    "  # 0 1 2 3 4 5 6 7 8 9\n",
    "  # example 4\n",
    "  # 0 0 0 0 1 0 0 0 0 0\n",
    "  return tf.cast(image, tf.float32) / 255., tf.one_hot(label, depth=10)\n"
   ]
  },
  {
   "cell_type": "code",
   "execution_count": 27,
   "metadata": {},
   "outputs": [],
   "source": [
    "mapped_train_data = train_data.map(preprocess_image).batch(32)\n",
    "mapped_test_data = test_data.map(preprocess_image).batch(32)"
   ]
  },
  {
   "cell_type": "markdown",
   "metadata": {
    "id": "a89rxN5Z-0Z2"
   },
   "source": [
    "Alexnet"
   ]
  },
  {
   "cell_type": "code",
   "execution_count": 30,
   "metadata": {
    "id": "lNYv08ES-0Z3"
   },
   "outputs": [
    {
     "name": "stdout",
     "output_type": "stream",
     "text": [
      "Model: \"sequential_3\"\n",
      "_________________________________________________________________\n",
      " Layer (type)                Output Shape              Param #   \n",
      "=================================================================\n",
      " conv2d_12 (Conv2D)          (None, 55, 55, 96)        11712     \n",
      "                                                                 \n",
      " max_pooling2d_6 (MaxPoolin  (None, 27, 27, 96)        0         \n",
      " g2D)                                                            \n",
      "                                                                 \n",
      " conv2d_13 (Conv2D)          (None, 23, 23, 256)       614656    \n",
      "                                                                 \n",
      " max_pooling2d_7 (MaxPoolin  (None, 11, 11, 256)       0         \n",
      " g2D)                                                            \n",
      "                                                                 \n",
      " conv2d_14 (Conv2D)          (None, 9, 9, 384)         885120    \n",
      "                                                                 \n",
      " conv2d_15 (Conv2D)          (None, 7, 7, 384)         1327488   \n",
      "                                                                 \n",
      " conv2d_16 (Conv2D)          (None, 5, 5, 256)         884992    \n",
      "                                                                 \n",
      " flatten_3 (Flatten)         (None, 6400)              0         \n",
      "                                                                 \n",
      " dense_9 (Dense)             (None, 4096)              26218496  \n",
      "                                                                 \n",
      " dropout_4 (Dropout)         (None, 4096)              0         \n",
      "                                                                 \n",
      " dense_10 (Dense)            (None, 4096)              16781312  \n",
      "                                                                 \n",
      " dropout_5 (Dropout)         (None, 4096)              0         \n",
      "                                                                 \n",
      " dense_11 (Dense)            (None, 10)                40970     \n",
      "                                                                 \n",
      "=================================================================\n",
      "Total params: 46764746 (178.39 MB)\n",
      "Trainable params: 46764746 (178.39 MB)\n",
      "Non-trainable params: 0 (0.00 Byte)\n",
      "_________________________________________________________________\n"
     ]
    }
   ],
   "source": [
    "model = keras.models.Sequential(\n",
    "    [\n",
    "        keras.layers.Input(shape=(227,227,1)),\n",
    "        keras.layers.Conv2D(96, kernel_size=(11,11), strides=(4,4), activation='relu'),\n",
    "        keras.layers.MaxPool2D(pool_size=3, strides=(2,2)),\n",
    "        keras.layers.Conv2D(256, kernel_size=(5,5), activation='relu'),\n",
    "        keras.layers.MaxPool2D(pool_size=3, strides=(2,2)),\n",
    "        keras.layers.Conv2D(384, kernel_size=(3,3), activation='relu'),\n",
    "        keras.layers.Conv2D(384, kernel_size=(3,3), activation='relu'),\n",
    "        keras.layers.Conv2D(256, kernel_size=(3,3), activation='relu'),\n",
    "        keras.layers.Flatten(),\n",
    "        keras.layers.Dense(4096, activation='relu'),\n",
    "        keras.layers.Dropout(0.5),\n",
    "        keras.layers.Dense(4096, activation='relu'),\n",
    "        keras.layers.Dropout(0.5),\n",
    "        keras.layers.Dense(10, activation='softmax')\n",
    "    ]\n",
    ")\n",
    "\n",
    "model.summary()"
   ]
  },
  {
   "cell_type": "code",
   "execution_count": 31,
   "metadata": {},
   "outputs": [],
   "source": [
    "model.compile(loss=\"categorical_crossentropy\",\n",
    "                optimizer=tf.keras.optimizers.Adam(),\n",
    "                metrics=['accuracy'])"
   ]
  },
  {
   "cell_type": "code",
   "execution_count": 32,
   "metadata": {},
   "outputs": [
    {
     "name": "stdout",
     "output_type": "stream",
     "text": [
      "Epoch 1/10\n"
     ]
    },
    {
     "ename": "ValueError",
     "evalue": "in user code:\n\n    File \"/home/dmds/.local/lib/python3.10/site-packages/keras/src/engine/training.py\", line 1401, in train_function  *\n        return step_function(self, iterator)\n    File \"/home/dmds/.local/lib/python3.10/site-packages/keras/src/engine/training.py\", line 1384, in step_function  **\n        outputs = model.distribute_strategy.run(run_step, args=(data,))\n    File \"/home/dmds/.local/lib/python3.10/site-packages/keras/src/engine/training.py\", line 1373, in run_step  **\n        outputs = model.train_step(data)\n    File \"/home/dmds/.local/lib/python3.10/site-packages/keras/src/engine/training.py\", line 1150, in train_step\n        y_pred = self(x, training=True)\n    File \"/home/dmds/.local/lib/python3.10/site-packages/keras/src/utils/traceback_utils.py\", line 70, in error_handler\n        raise e.with_traceback(filtered_tb) from None\n    File \"/home/dmds/.local/lib/python3.10/site-packages/keras/src/engine/input_spec.py\", line 298, in assert_input_compatibility\n        raise ValueError(\n\n    ValueError: Input 0 of layer \"sequential_3\" is incompatible with the layer: expected shape=(None, 227, 227, 1), found shape=(None, 28, 28, 1)\n",
     "output_type": "error",
     "traceback": [
      "\u001b[0;31m---------------------------------------------------------------------------\u001b[0m",
      "\u001b[0;31mValueError\u001b[0m                                Traceback (most recent call last)",
      "Cell \u001b[0;32mIn[32], line 1\u001b[0m\n\u001b[0;32m----> 1\u001b[0m history \u001b[38;5;241m=\u001b[39m \u001b[43mmodel\u001b[49m\u001b[38;5;241;43m.\u001b[39;49m\u001b[43mfit\u001b[49m\u001b[43m(\u001b[49m\u001b[43mmapped_train_data\u001b[49m\u001b[38;5;241;43m.\u001b[39;49m\u001b[43mtake\u001b[49m\u001b[43m(\u001b[49m\u001b[38;5;241;43m32\u001b[39;49m\u001b[43m)\u001b[49m\u001b[43m,\u001b[49m\u001b[43m \u001b[49m\u001b[43mepochs\u001b[49m\u001b[38;5;241;43m=\u001b[39;49m\u001b[38;5;241;43m10\u001b[39;49m\u001b[43m)\u001b[49m\n",
      "File \u001b[0;32m~/.local/lib/python3.10/site-packages/keras/src/utils/traceback_utils.py:70\u001b[0m, in \u001b[0;36mfilter_traceback.<locals>.error_handler\u001b[0;34m(*args, **kwargs)\u001b[0m\n\u001b[1;32m     67\u001b[0m     filtered_tb \u001b[38;5;241m=\u001b[39m _process_traceback_frames(e\u001b[38;5;241m.\u001b[39m__traceback__)\n\u001b[1;32m     68\u001b[0m     \u001b[38;5;66;03m# To get the full stack trace, call:\u001b[39;00m\n\u001b[1;32m     69\u001b[0m     \u001b[38;5;66;03m# `tf.debugging.disable_traceback_filtering()`\u001b[39;00m\n\u001b[0;32m---> 70\u001b[0m     \u001b[38;5;28;01mraise\u001b[39;00m e\u001b[38;5;241m.\u001b[39mwith_traceback(filtered_tb) \u001b[38;5;28;01mfrom\u001b[39;00m \u001b[38;5;28;01mNone\u001b[39;00m\n\u001b[1;32m     71\u001b[0m \u001b[38;5;28;01mfinally\u001b[39;00m:\n\u001b[1;32m     72\u001b[0m     \u001b[38;5;28;01mdel\u001b[39;00m filtered_tb\n",
      "File \u001b[0;32m/tmp/__autograph_generated_filew22i1piz.py:15\u001b[0m, in \u001b[0;36mouter_factory.<locals>.inner_factory.<locals>.tf__train_function\u001b[0;34m(iterator)\u001b[0m\n\u001b[1;32m     13\u001b[0m \u001b[38;5;28;01mtry\u001b[39;00m:\n\u001b[1;32m     14\u001b[0m     do_return \u001b[38;5;241m=\u001b[39m \u001b[38;5;28;01mTrue\u001b[39;00m\n\u001b[0;32m---> 15\u001b[0m     retval_ \u001b[38;5;241m=\u001b[39m ag__\u001b[38;5;241m.\u001b[39mconverted_call(ag__\u001b[38;5;241m.\u001b[39mld(step_function), (ag__\u001b[38;5;241m.\u001b[39mld(\u001b[38;5;28mself\u001b[39m), ag__\u001b[38;5;241m.\u001b[39mld(iterator)), \u001b[38;5;28;01mNone\u001b[39;00m, fscope)\n\u001b[1;32m     16\u001b[0m \u001b[38;5;28;01mexcept\u001b[39;00m:\n\u001b[1;32m     17\u001b[0m     do_return \u001b[38;5;241m=\u001b[39m \u001b[38;5;28;01mFalse\u001b[39;00m\n",
      "\u001b[0;31mValueError\u001b[0m: in user code:\n\n    File \"/home/dmds/.local/lib/python3.10/site-packages/keras/src/engine/training.py\", line 1401, in train_function  *\n        return step_function(self, iterator)\n    File \"/home/dmds/.local/lib/python3.10/site-packages/keras/src/engine/training.py\", line 1384, in step_function  **\n        outputs = model.distribute_strategy.run(run_step, args=(data,))\n    File \"/home/dmds/.local/lib/python3.10/site-packages/keras/src/engine/training.py\", line 1373, in run_step  **\n        outputs = model.train_step(data)\n    File \"/home/dmds/.local/lib/python3.10/site-packages/keras/src/engine/training.py\", line 1150, in train_step\n        y_pred = self(x, training=True)\n    File \"/home/dmds/.local/lib/python3.10/site-packages/keras/src/utils/traceback_utils.py\", line 70, in error_handler\n        raise e.with_traceback(filtered_tb) from None\n    File \"/home/dmds/.local/lib/python3.10/site-packages/keras/src/engine/input_spec.py\", line 298, in assert_input_compatibility\n        raise ValueError(\n\n    ValueError: Input 0 of layer \"sequential_3\" is incompatible with the layer: expected shape=(None, 227, 227, 1), found shape=(None, 28, 28, 1)\n"
     ]
    }
   ],
   "source": [
    "history = model.fit(mapped_train_data.take(32), epochs=10)"
   ]
  },
  {
   "cell_type": "markdown",
   "metadata": {
    "id": "LsDNeL6g-0Z3"
   },
   "source": [
    "LENET"
   ]
  },
  {
   "cell_type": "code",
   "execution_count": 33,
   "metadata": {
    "id": "0HRjhDsi-0Z3"
   },
   "outputs": [
    {
     "name": "stdout",
     "output_type": "stream",
     "text": [
      "Model: \"sequential_4\"\n",
      "_________________________________________________________________\n",
      " Layer (type)                Output Shape              Param #   \n",
      "=================================================================\n",
      " conv2d_17 (Conv2D)          (None, 24, 24, 6)         156       \n",
      "                                                                 \n",
      " max_pooling2d_8 (MaxPoolin  (None, 12, 12, 6)         0         \n",
      " g2D)                                                            \n",
      "                                                                 \n",
      " conv2d_18 (Conv2D)          (None, 8, 8, 16)          2416      \n",
      "                                                                 \n",
      " max_pooling2d_9 (MaxPoolin  (None, 4, 4, 16)          0         \n",
      " g2D)                                                            \n",
      "                                                                 \n",
      " flatten_4 (Flatten)         (None, 256)               0         \n",
      "                                                                 \n",
      " dense_12 (Dense)            (None, 120)               30840     \n",
      "                                                                 \n",
      " dense_13 (Dense)            (None, 84)                10164     \n",
      "                                                                 \n",
      " dense_14 (Dense)            (None, 10)                850       \n",
      "                                                                 \n",
      "=================================================================\n",
      "Total params: 44426 (173.54 KB)\n",
      "Trainable params: 44426 (173.54 KB)\n",
      "Non-trainable params: 0 (0.00 Byte)\n",
      "_________________________________________________________________\n"
     ]
    }
   ],
   "source": [
    "model = keras.models.Sequential(\n",
    "    [\n",
    "      keras.layers.Input((28,28,1)),\n",
    "      keras.layers.Conv2D(6, kernel_size=(5,5), activation='sigmoid'),\n",
    "      keras.layers.MaxPool2D(pool_size=2, strides=(2,2)),\n",
    "      keras.layers.Conv2D(16, kernel_size=(5,5), activation='sigmoid'),\n",
    "      keras.layers.MaxPool2D(pool_size=2, strides=(2,2)),\n",
    "      keras.layers.Flatten(),\n",
    "      keras.layers.Dense(120, activation='sigmoid'),\n",
    "      keras.layers.Dense(84, activation='sigmoid'),\n",
    "      keras.layers.Dense(10, activation='softmax')\n",
    "    ]\n",
    ")\n",
    "\n",
    "model.summary()"
   ]
  },
  {
   "cell_type": "code",
   "execution_count": 34,
   "metadata": {},
   "outputs": [],
   "source": [
    "model.compile(loss=\"categorical_crossentropy\",\n",
    "                optimizer=tf.keras.optimizers.Adam(),\n",
    "                metrics=['accuracy'])"
   ]
  },
  {
   "cell_type": "code",
   "execution_count": 35,
   "metadata": {},
   "outputs": [
    {
     "name": "stdout",
     "output_type": "stream",
     "text": [
      "Epoch 1/10\n",
      "32/32 [==============================] - 1s 8ms/step - loss: 2.3390 - accuracy: 0.0996\n",
      "Epoch 2/10\n",
      " 8/32 [======>.......................] - ETA: 0s - loss: 2.3200 - accuracy: 0.1094"
     ]
    },
    {
     "name": "stderr",
     "output_type": "stream",
     "text": [
      "2024-03-02 11:49:53.063278: W tensorflow/core/kernels/data/cache_dataset_ops.cc:858] The calling iterator did not fully read the dataset being cached. In order to avoid unexpected truncation of the dataset, the partially cached contents of the dataset  will be discarded. This can happen if you have an input pipeline similar to `dataset.cache().take(k).repeat()`. You should use `dataset.take(k).cache().repeat()` instead.\n"
     ]
    },
    {
     "name": "stdout",
     "output_type": "stream",
     "text": [
      "32/32 [==============================] - 0s 7ms/step - loss: 2.3207 - accuracy: 0.0908\n",
      "Epoch 3/10\n",
      "15/32 [=============>................] - ETA: 0s - loss: 2.3176 - accuracy: 0.0938"
     ]
    },
    {
     "name": "stderr",
     "output_type": "stream",
     "text": [
      "2024-03-02 11:49:53.390191: W tensorflow/core/kernels/data/cache_dataset_ops.cc:858] The calling iterator did not fully read the dataset being cached. In order to avoid unexpected truncation of the dataset, the partially cached contents of the dataset  will be discarded. This can happen if you have an input pipeline similar to `dataset.cache().take(k).repeat()`. You should use `dataset.take(k).cache().repeat()` instead.\n"
     ]
    },
    {
     "name": "stdout",
     "output_type": "stream",
     "text": [
      "32/32 [==============================] - 0s 7ms/step - loss: 2.3127 - accuracy: 0.0967\n",
      "Epoch 4/10\n",
      "16/32 [==============>...............] - ETA: 0s - loss: 2.3150 - accuracy: 0.0898"
     ]
    },
    {
     "name": "stderr",
     "output_type": "stream",
     "text": [
      "2024-03-02 11:49:53.668183: W tensorflow/core/kernels/data/cache_dataset_ops.cc:858] The calling iterator did not fully read the dataset being cached. In order to avoid unexpected truncation of the dataset, the partially cached contents of the dataset  will be discarded. This can happen if you have an input pipeline similar to `dataset.cache().take(k).repeat()`. You should use `dataset.take(k).cache().repeat()` instead.\n"
     ]
    },
    {
     "name": "stdout",
     "output_type": "stream",
     "text": [
      "32/32 [==============================] - 0s 7ms/step - loss: 2.3093 - accuracy: 0.0977\n",
      "Epoch 5/10\n",
      "17/32 [==============>...............] - ETA: 0s - loss: 2.3076 - accuracy: 0.0974"
     ]
    },
    {
     "name": "stderr",
     "output_type": "stream",
     "text": [
      "2024-03-02 11:49:53.931837: W tensorflow/core/kernels/data/cache_dataset_ops.cc:858] The calling iterator did not fully read the dataset being cached. In order to avoid unexpected truncation of the dataset, the partially cached contents of the dataset  will be discarded. This can happen if you have an input pipeline similar to `dataset.cache().take(k).repeat()`. You should use `dataset.take(k).cache().repeat()` instead.\n"
     ]
    },
    {
     "name": "stdout",
     "output_type": "stream",
     "text": [
      "32/32 [==============================] - 0s 7ms/step - loss: 2.2993 - accuracy: 0.1182\n",
      "Epoch 6/10\n",
      "18/32 [===============>..............] - ETA: 0s - loss: 2.2830 - accuracy: 0.1354"
     ]
    },
    {
     "name": "stderr",
     "output_type": "stream",
     "text": [
      "2024-03-02 11:49:54.196970: W tensorflow/core/kernels/data/cache_dataset_ops.cc:858] The calling iterator did not fully read the dataset being cached. In order to avoid unexpected truncation of the dataset, the partially cached contents of the dataset  will be discarded. This can happen if you have an input pipeline similar to `dataset.cache().take(k).repeat()`. You should use `dataset.take(k).cache().repeat()` instead.\n"
     ]
    },
    {
     "name": "stdout",
     "output_type": "stream",
     "text": [
      "32/32 [==============================] - 0s 7ms/step - loss: 2.2689 - accuracy: 0.1816\n",
      "Epoch 7/10\n",
      "16/32 [==============>...............] - ETA: 0s - loss: 2.2078 - accuracy: 0.3047"
     ]
    },
    {
     "name": "stderr",
     "output_type": "stream",
     "text": [
      "2024-03-02 11:49:54.442599: W tensorflow/core/kernels/data/cache_dataset_ops.cc:858] The calling iterator did not fully read the dataset being cached. In order to avoid unexpected truncation of the dataset, the partially cached contents of the dataset  will be discarded. This can happen if you have an input pipeline similar to `dataset.cache().take(k).repeat()`. You should use `dataset.take(k).cache().repeat()` instead.\n"
     ]
    },
    {
     "name": "stdout",
     "output_type": "stream",
     "text": [
      "32/32 [==============================] - 0s 7ms/step - loss: 2.1697 - accuracy: 0.3623\n",
      "Epoch 8/10\n",
      "16/32 [==============>...............] - ETA: 0s - loss: 1.9933 - accuracy: 0.5195"
     ]
    },
    {
     "name": "stderr",
     "output_type": "stream",
     "text": [
      "2024-03-02 11:49:54.710232: W tensorflow/core/kernels/data/cache_dataset_ops.cc:858] The calling iterator did not fully read the dataset being cached. In order to avoid unexpected truncation of the dataset, the partially cached contents of the dataset  will be discarded. This can happen if you have an input pipeline similar to `dataset.cache().take(k).repeat()`. You should use `dataset.take(k).cache().repeat()` instead.\n"
     ]
    },
    {
     "name": "stdout",
     "output_type": "stream",
     "text": [
      "32/32 [==============================] - 0s 7ms/step - loss: 1.9204 - accuracy: 0.5107\n",
      "Epoch 9/10\n",
      "17/32 [==============>...............] - ETA: 0s - loss: 1.6345 - accuracy: 0.5974"
     ]
    },
    {
     "name": "stderr",
     "output_type": "stream",
     "text": [
      "2024-03-02 11:49:54.967368: W tensorflow/core/kernels/data/cache_dataset_ops.cc:858] The calling iterator did not fully read the dataset being cached. In order to avoid unexpected truncation of the dataset, the partially cached contents of the dataset  will be discarded. This can happen if you have an input pipeline similar to `dataset.cache().take(k).repeat()`. You should use `dataset.take(k).cache().repeat()` instead.\n"
     ]
    },
    {
     "name": "stdout",
     "output_type": "stream",
     "text": [
      "32/32 [==============================] - 0s 7ms/step - loss: 1.5648 - accuracy: 0.6064\n",
      "Epoch 10/10\n",
      "17/32 [==============>...............] - ETA: 0s - loss: 1.3030 - accuracy: 0.6710"
     ]
    },
    {
     "name": "stderr",
     "output_type": "stream",
     "text": [
      "2024-03-02 11:49:55.214764: W tensorflow/core/kernels/data/cache_dataset_ops.cc:858] The calling iterator did not fully read the dataset being cached. In order to avoid unexpected truncation of the dataset, the partially cached contents of the dataset  will be discarded. This can happen if you have an input pipeline similar to `dataset.cache().take(k).repeat()`. You should use `dataset.take(k).cache().repeat()` instead.\n"
     ]
    },
    {
     "name": "stdout",
     "output_type": "stream",
     "text": [
      "32/32 [==============================] - 0s 7ms/step - loss: 1.2515 - accuracy: 0.6982\n"
     ]
    },
    {
     "name": "stderr",
     "output_type": "stream",
     "text": [
      "2024-03-02 11:49:55.463944: W tensorflow/core/kernels/data/cache_dataset_ops.cc:858] The calling iterator did not fully read the dataset being cached. In order to avoid unexpected truncation of the dataset, the partially cached contents of the dataset  will be discarded. This can happen if you have an input pipeline similar to `dataset.cache().take(k).repeat()`. You should use `dataset.take(k).cache().repeat()` instead.\n"
     ]
    }
   ],
   "source": [
    "history = model.fit(mapped_train_data.take(32), epochs=10)"
   ]
  },
  {
   "cell_type": "markdown",
   "metadata": {
    "id": "chDT0O8Z-0Z3"
   },
   "source": [
    "CUSTOM MODEL"
   ]
  },
  {
   "cell_type": "code",
   "execution_count": null,
   "metadata": {},
   "outputs": [],
   "source": []
  }
 ],
 "metadata": {
  "colab": {
   "include_colab_link": true,
   "provenance": []
  },
  "kernelspec": {
   "display_name": "Python 3 (ipykernel)",
   "language": "python",
   "name": "python3"
  },
  "language_info": {
   "codemirror_mode": {
    "name": "ipython",
    "version": 3
   },
   "file_extension": ".py",
   "mimetype": "text/x-python",
   "name": "python",
   "nbconvert_exporter": "python",
   "pygments_lexer": "ipython3",
   "version": "3.10.12"
  }
 },
 "nbformat": 4,
 "nbformat_minor": 1
}
