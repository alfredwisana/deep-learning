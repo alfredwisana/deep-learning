{
  "cells": [
    {
      "cell_type": "markdown",
      "metadata": {
        "colab_type": "text",
        "id": "view-in-github"
      },
      "source": [
        "<a href=\"https://colab.research.google.com/github/alfredwisana/deep-learning/blob/main/week%203%3A%20CNN/data_100_percent.ipynb\" target=\"_parent\"><img src=\"https://colab.research.google.com/assets/colab-badge.svg\" alt=\"Open In Colab\"/></a>"
      ]
    },
    {
      "cell_type": "code",
      "execution_count": 1,
      "metadata": {
        "id": "OsiXpTJ5-0Zz"
      },
      "outputs": [
        {
          "name": "stderr",
          "output_type": "stream",
          "text": [
            "2024-03-05 17:31:28.205123: I tensorflow/core/util/port.cc:113] oneDNN custom operations are on. You may see slightly different numerical results due to floating-point round-off errors from different computation orders. To turn them off, set the environment variable `TF_ENABLE_ONEDNN_OPTS=0`.\n",
            "2024-03-05 17:31:28.389679: E external/local_xla/xla/stream_executor/cuda/cuda_dnn.cc:9261] Unable to register cuDNN factory: Attempting to register factory for plugin cuDNN when one has already been registered\n",
            "2024-03-05 17:31:28.389721: E external/local_xla/xla/stream_executor/cuda/cuda_fft.cc:607] Unable to register cuFFT factory: Attempting to register factory for plugin cuFFT when one has already been registered\n",
            "2024-03-05 17:31:28.416771: E external/local_xla/xla/stream_executor/cuda/cuda_blas.cc:1515] Unable to register cuBLAS factory: Attempting to register factory for plugin cuBLAS when one has already been registered\n",
            "2024-03-05 17:31:28.466640: I tensorflow/core/platform/cpu_feature_guard.cc:182] This TensorFlow binary is optimized to use available CPU instructions in performance-critical operations.\n",
            "To enable the following instructions: AVX2 AVX_VNNI FMA, in other operations, rebuild TensorFlow with the appropriate compiler flags.\n",
            "2024-03-05 17:31:29.284259: W tensorflow/compiler/tf2tensorrt/utils/py_utils.cc:38] TF-TRT Warning: Could not find TensorRT\n",
            "/home/alfred/anaconda3/envs/py310/lib/python3.10/site-packages/tqdm/auto.py:21: TqdmWarning: IProgress not found. Please update jupyter and ipywidgets. See https://ipywidgets.readthedocs.io/en/stable/user_install.html\n",
            "  from .autonotebook import tqdm as notebook_tqdm\n"
          ]
        }
      ],
      "source": [
        "import tensorflow as tf\n",
        "import keras\n",
        "import matplotlib.pyplot as plt\n",
        "import numpy as np\n",
        "import pandas as pd\n",
        "import tensorflow_datasets as tfds\n",
        "\n",
        "from sklearn.model_selection import train_test_split"
      ]
    },
    {
      "cell_type": "markdown",
      "metadata": {
        "id": "EjCeCVGh-0Z1"
      },
      "source": [
        "READ DATA"
      ]
    },
    {
      "cell_type": "code",
      "execution_count": 9,
      "metadata": {
        "id": "Qc7PacLw-0Z2"
      },
      "outputs": [
        {
          "name": "stderr",
          "output_type": "stream",
          "text": [
            "2024-03-05 17:36:38.447151: W external/local_tsl/tsl/platform/cloud/google_auth_provider.cc:184] All attempts to get a Google authentication bearer token failed, returning an empty token. Retrieving token from files failed with \"NOT_FOUND: Could not locate the credentials file.\". Retrieving token from GCE failed with \"FAILED_PRECONDITION: Error executing an HTTP request: HTTP response code 302\".\n"
          ]
        },
        {
          "name": "stdout",
          "output_type": "stream",
          "text": [
            "\u001b[1mDownloading and preparing dataset 535.73 MiB (download: 535.73 MiB, generated: Unknown size, total: 535.73 MiB) to /home/alfred/tensorflow_datasets/emnist/digits/3.0.0...\u001b[0m\n"
          ]
        },
        {
          "name": "stderr",
          "output_type": "stream",
          "text": [
            "Dl Completed...: 0 url [00:00, ? url/s]\n",
            "Dl Completed...:   0%|          | 0/1 [00:00<?, ? url/s]\n",
            "Dl Completed...:   0%|          | 0/1 [00:01<?, ? url/s]\n",
            "Dl Completed...:   0%|          | 0/1 [00:10<?, ? url/s]\n",
            "Dl Completed...:   0%|          | 0/1 [00:12<?, ? url/s]\n",
            "Dl Completed...:   0%|          | 0/1 [00:13<?, ? url/s]\n",
            "Dl Completed...:   0%|          | 0/1 [00:14<?, ? url/s]\n",
            "Dl Completed...:   0%|          | 0/1 [00:15<?, ? url/s]\n",
            "Dl Completed...:   0%|          | 0/1 [00:15<?, ? url/s]\n",
            "Dl Completed...:   0%|          | 0/1 [00:16<?, ? url/s]\n",
            "Dl Completed...:   0%|          | 0/1 [00:16<?, ? url/s]\n",
            "Dl Completed...:   0%|          | 0/1 [00:17<?, ? url/s]\n",
            "Dl Completed...:   0%|          | 0/1 [00:18<?, ? url/s]\n",
            "Dl Completed...:   0%|          | 0/1 [00:18<?, ? url/s]\n",
            "Dl Completed...:   0%|          | 0/1 [00:19<?, ? url/s]\n",
            "Dl Completed...:   0%|          | 0/1 [00:19<?, ? url/s]\n",
            "Dl Completed...:   0%|          | 0/1 [00:20<?, ? url/s]\n",
            "Dl Completed...:   0%|          | 0/1 [00:20<?, ? url/s]\n",
            "Dl Completed...:   0%|          | 0/1 [00:21<?, ? url/s]\n",
            "Dl Completed...:   0%|          | 0/1 [00:22<?, ? url/s]\n",
            "Dl Completed...:   0%|          | 0/1 [00:22<?, ? url/s]\n",
            "Dl Completed...:   0%|          | 0/1 [00:23<?, ? url/s]\n",
            "Dl Completed...:   0%|          | 0/1 [00:23<?, ? url/s]\n",
            "Dl Completed...:   0%|          | 0/1 [00:24<?, ? url/s]\n",
            "Dl Completed...:   0%|          | 0/1 [00:25<?, ? url/s]\n",
            "Dl Completed...:   0%|          | 0/1 [00:25<?, ? url/s]\n",
            "Dl Completed...:   0%|          | 0/1 [00:25<?, ? url/s]\n",
            "Dl Completed...:   0%|          | 0/1 [00:26<?, ? url/s]\n",
            "Dl Completed...:   0%|          | 0/1 [00:26<?, ? url/s]\n",
            "Dl Completed...:   0%|          | 0/1 [00:26<?, ? url/s]\n",
            "Dl Completed...:   0%|          | 0/1 [00:27<?, ? url/s]\n",
            "Dl Completed...:   0%|          | 0/1 [00:27<?, ? url/s]\n",
            "Dl Completed...:   0%|          | 0/1 [00:28<?, ? url/s]\n",
            "Dl Completed...:   0%|          | 0/1 [00:28<?, ? url/s]\n",
            "Dl Completed...:   0%|          | 0/1 [00:29<?, ? url/s]\n",
            "Dl Completed...:   0%|          | 0/1 [00:29<?, ? url/s]\n",
            "Dl Completed...:   0%|          | 0/1 [00:30<?, ? url/s]\n",
            "Dl Completed...:   0%|          | 0/1 [00:31<?, ? url/s]\n",
            "Dl Completed...:   0%|          | 0/1 [00:31<?, ? url/s]\n",
            "Dl Completed...:   0%|          | 0/1 [00:32<?, ? url/s]\n",
            "Dl Completed...:   0%|          | 0/1 [00:33<?, ? url/s]\n",
            "Dl Completed...:   0%|          | 0/1 [00:34<?, ? url/s]\n",
            "Dl Completed...:   0%|          | 0/1 [00:35<?, ? url/s]\n",
            "Dl Completed...:   0%|          | 0/1 [00:36<?, ? url/s]\n",
            "Dl Completed...:   0%|          | 0/1 [00:37<?, ? url/s]\n",
            "Dl Completed...:   0%|          | 0/1 [00:38<?, ? url/s]\n",
            "Dl Completed...:   0%|          | 0/1 [00:38<?, ? url/s]\n",
            "Dl Completed...:   0%|          | 0/1 [00:40<?, ? url/s]\n",
            "Dl Completed...:   0%|          | 0/1 [00:41<?, ? url/s]\n",
            "Dl Completed...:   0%|          | 0/1 [00:42<?, ? url/s]\n",
            "Dl Completed...:   0%|          | 0/1 [00:44<?, ? url/s]\n",
            "Dl Completed...:   0%|          | 0/1 [00:45<?, ? url/s]\n",
            "Dl Completed...:   0%|          | 0/1 [00:46<?, ? url/s]\n",
            "Dl Completed...:   0%|          | 0/1 [00:47<?, ? url/s]\n",
            "Dl Completed...:   0%|          | 0/1 [00:48<?, ? url/s]\n",
            "Dl Completed...:   0%|          | 0/1 [00:49<?, ? url/s]\n",
            "Dl Completed...:   0%|          | 0/1 [00:50<?, ? url/s]\n",
            "Dl Completed...:   0%|          | 0/1 [00:51<?, ? url/s]\n",
            "Dl Completed...:   0%|          | 0/1 [00:52<?, ? url/s]\n",
            "Dl Completed...:   0%|          | 0/1 [00:52<?, ? url/s]\n",
            "Dl Completed...:   0%|          | 0/1 [00:53<?, ? url/s]\n",
            "Dl Completed...:   0%|          | 0/1 [00:54<?, ? url/s]\n",
            "Dl Completed...:   0%|          | 0/1 [00:54<?, ? url/s]\n",
            "Dl Completed...:   0%|          | 0/1 [00:55<?, ? url/s]\n",
            "Dl Completed...:   0%|          | 0/1 [00:55<?, ? url/s]\n",
            "Dl Completed...:   0%|          | 0/1 [00:56<?, ? url/s]\n",
            "Dl Completed...:   0%|          | 0/1 [00:56<?, ? url/s]\n",
            "Dl Completed...:   0%|          | 0/1 [00:57<?, ? url/s]\n",
            "Dl Completed...:   0%|          | 0/1 [00:57<?, ? url/s]\n",
            "Dl Completed...:   0%|          | 0/1 [00:58<?, ? url/s]\n",
            "Dl Completed...:   0%|          | 0/1 [00:58<?, ? url/s]\n",
            "Dl Completed...:   0%|          | 0/1 [00:58<?, ? url/s]\n",
            "Dl Completed...:   0%|          | 0/1 [00:59<?, ? url/s]\n",
            "Dl Completed...:   0%|          | 0/1 [00:59<?, ? url/s]\n",
            "Dl Completed...:   0%|          | 0/1 [00:59<?, ? url/s]\n",
            "Dl Completed...:   0%|          | 0/1 [01:00<?, ? url/s]\n",
            "Dl Completed...:   0%|          | 0/1 [01:00<?, ? url/s]\n",
            "Dl Completed...:   0%|          | 0/1 [01:01<?, ? url/s]\n",
            "Dl Completed...:   0%|          | 0/1 [01:01<?, ? url/s]\n",
            "Dl Completed...:   0%|          | 0/1 [01:01<?, ? url/s]\n",
            "Dl Completed...:   0%|          | 0/1 [01:02<?, ? url/s]\n",
            "Dl Completed...:   0%|          | 0/1 [01:03<?, ? url/s]\n",
            "Dl Completed...:   0%|          | 0/1 [01:03<?, ? url/s]\n",
            "Dl Completed...:   0%|          | 0/1 [01:03<?, ? url/s]\n",
            "Dl Completed...:   0%|          | 0/1 [01:03<?, ? url/s]\n",
            "Dl Completed...:   0%|          | 0/1 [01:04<?, ? url/s]\n",
            "Dl Completed...:   0%|          | 0/1 [01:05<?, ? url/s]\n",
            "Dl Completed...:   0%|          | 0/1 [01:05<?, ? url/s]\n",
            "Dl Completed...:   0%|          | 0/1 [01:05<?, ? url/s]\n",
            "Dl Completed...:   0%|          | 0/1 [01:06<?, ? url/s]\n",
            "Dl Completed...:   0%|          | 0/1 [01:06<?, ? url/s]\n",
            "Dl Completed...:   0%|          | 0/1 [01:07<?, ? url/s]\n",
            "Dl Completed...:   0%|          | 0/1 [01:07<?, ? url/s]\n",
            "Dl Completed...:   0%|          | 0/1 [01:07<?, ? url/s]\n",
            "Dl Completed...:   0%|          | 0/1 [01:09<?, ? url/s]\n",
            "Dl Completed...:   0%|          | 0/1 [01:10<?, ? url/s]\n",
            "Dl Completed...:   0%|          | 0/1 [01:11<?, ? url/s]\n",
            "Dl Completed...:   0%|          | 0/1 [01:13<?, ? url/s]\n",
            "Dl Completed...:   0%|          | 0/1 [01:14<?, ? url/s]\n",
            "Dl Completed...:   0%|          | 0/1 [01:16<?, ? url/s]\n",
            "Dl Completed...:   0%|          | 0/1 [01:17<?, ? url/s]\n",
            "Dl Completed...:   0%|          | 0/1 [01:18<?, ? url/s]\n",
            "Dl Completed...:   0%|          | 0/1 [01:20<?, ? url/s]\n",
            "Dl Completed...:   0%|          | 0/1 [01:21<?, ? url/s]\n",
            "Dl Completed...:   0%|          | 0/1 [01:22<?, ? url/s]\n",
            "Dl Completed...:   0%|          | 0/1 [01:23<?, ? url/s]\n",
            "Dl Completed...:   0%|          | 0/1 [01:24<?, ? url/s]\n",
            "Dl Completed...:   0%|          | 0/1 [01:25<?, ? url/s]\n",
            "Dl Completed...:   0%|          | 0/1 [01:26<?, ? url/s]\n",
            "Dl Completed...:   0%|          | 0/1 [01:26<?, ? url/s]\n",
            "Dl Completed...:   0%|          | 0/1 [01:27<?, ? url/s]\n",
            "Dl Completed...:   0%|          | 0/1 [01:27<?, ? url/s]\n",
            "Dl Completed...:   0%|          | 0/1 [01:28<?, ? url/s]\n",
            "Dl Completed...:   0%|          | 0/1 [01:28<?, ? url/s]\n",
            "Dl Completed...:   0%|          | 0/1 [01:28<?, ? url/s]\n",
            "Dl Completed...:   0%|          | 0/1 [01:29<?, ? url/s]\n",
            "Dl Completed...:   0%|          | 0/1 [01:29<?, ? url/s]\n",
            "Dl Completed...:   0%|          | 0/1 [01:30<?, ? url/s]\n",
            "Dl Completed...:   0%|          | 0/1 [01:30<?, ? url/s]\n",
            "Dl Completed...:   0%|          | 0/1 [01:31<?, ? url/s]\n",
            "Dl Completed...:   0%|          | 0/1 [01:32<?, ? url/s]\n",
            "Dl Completed...:   0%|          | 0/1 [01:32<?, ? url/s]\n",
            "Dl Completed...:   0%|          | 0/1 [01:33<?, ? url/s]\n",
            "Dl Completed...:   0%|          | 0/1 [01:33<?, ? url/s]\n",
            "Dl Completed...:   0%|          | 0/1 [01:34<?, ? url/s]\n",
            "Dl Completed...:   0%|          | 0/1 [01:34<?, ? url/s]\n",
            "Dl Completed...:   0%|          | 0/1 [01:35<?, ? url/s]\n",
            "Dl Completed...:   0%|          | 0/1 [01:35<?, ? url/s]\n",
            "Dl Completed...:   0%|          | 0/1 [01:36<?, ? url/s]\n",
            "Dl Completed...:   0%|          | 0/1 [01:37<?, ? url/s]\n",
            "Dl Completed...:   0%|          | 0/1 [01:37<?, ? url/s]\n",
            "Dl Completed...:   0%|          | 0/1 [01:38<?, ? url/s]\n",
            "Dl Completed...:   0%|          | 0/1 [01:38<?, ? url/s]\n",
            "Dl Completed...:   0%|          | 0/1 [01:39<?, ? url/s]\n",
            "Dl Completed...:   0%|          | 0/1 [01:39<?, ? url/s]\n",
            "Dl Completed...:   0%|          | 0/1 [01:40<?, ? url/s]\n",
            "Dl Completed...:   0%|          | 0/1 [01:40<?, ? url/s]\n",
            "Dl Completed...:   0%|          | 0/1 [01:41<?, ? url/s]\n",
            "Dl Completed...:   0%|          | 0/1 [01:41<?, ? url/s]\n",
            "Dl Completed...:   0%|          | 0/1 [01:42<?, ? url/s]\n",
            "Dl Completed...:   0%|          | 0/1 [01:42<?, ? url/s]\n",
            "Dl Completed...:   0%|          | 0/1 [01:43<?, ? url/s]\n",
            "Dl Completed...:   0%|          | 0/1 [01:44<?, ? url/s]\n",
            "Dl Completed...:   0%|          | 0/1 [01:44<?, ? url/s]\n",
            "Dl Completed...:   0%|          | 0/1 [01:45<?, ? url/s]\n",
            "Dl Completed...:   0%|          | 0/1 [01:46<?, ? url/s]\n",
            "Dl Completed...:   0%|          | 0/1 [01:47<?, ? url/s]\n",
            "Dl Completed...:   0%|          | 0/1 [01:48<?, ? url/s]\n",
            "Dl Completed...:   0%|          | 0/1 [01:49<?, ? url/s]\n",
            "Dl Completed...:   0%|          | 0/1 [01:50<?, ? url/s]\n",
            "Dl Completed...:   0%|          | 0/1 [01:51<?, ? url/s]\n",
            "Dl Completed...:   0%|          | 0/1 [01:52<?, ? url/s]\n",
            "Dl Completed...:   0%|          | 0/1 [01:53<?, ? url/s]\n",
            "Dl Completed...:   0%|          | 0/1 [01:54<?, ? url/s]\n",
            "Dl Completed...:   0%|          | 0/1 [01:56<?, ? url/s]\n",
            "Dl Completed...:   0%|          | 0/1 [01:57<?, ? url/s]\n",
            "Dl Completed...:   0%|          | 0/1 [01:58<?, ? url/s]\n",
            "Dl Completed...:   0%|          | 0/1 [01:59<?, ? url/s]\n",
            "Dl Completed...:   0%|          | 0/1 [02:00<?, ? url/s]\n",
            "Dl Completed...:   0%|          | 0/1 [02:01<?, ? url/s]\n",
            "Dl Completed...:   0%|          | 0/1 [02:02<?, ? url/s]\n",
            "Dl Completed...:   0%|          | 0/1 [02:03<?, ? url/s]\n",
            "Dl Completed...:   0%|          | 0/1 [02:04<?, ? url/s]\n",
            "Dl Completed...:   0%|          | 0/1 [02:05<?, ? url/s]\n",
            "Dl Completed...:   0%|          | 0/1 [02:06<?, ? url/s]\n",
            "Dl Completed...:   0%|          | 0/1 [02:06<?, ? url/s]\n",
            "Dl Completed...:   0%|          | 0/1 [02:07<?, ? url/s]\n",
            "Dl Completed...:   0%|          | 0/1 [02:07<?, ? url/s]\n",
            "Dl Completed...:   0%|          | 0/1 [02:08<?, ? url/s]\n",
            "Dl Completed...:   0%|          | 0/1 [02:09<?, ? url/s]\n",
            "Dl Completed...:   0%|          | 0/1 [02:10<?, ? url/s]\n",
            "Dl Completed...:   0%|          | 0/1 [02:10<?, ? url/s]\n",
            "Dl Completed...:   0%|          | 0/1 [02:11<?, ? url/s]\n",
            "Dl Completed...:   0%|          | 0/1 [02:12<?, ? url/s]\n",
            "Dl Completed...:   0%|          | 0/1 [02:12<?, ? url/s]\n",
            "Dl Completed...:   0%|          | 0/1 [02:13<?, ? url/s]\n",
            "Dl Completed...:   0%|          | 0/1 [02:14<?, ? url/s]\n",
            "Dl Completed...:   0%|          | 0/1 [02:15<?, ? url/s]\n",
            "Dl Completed...:   0%|          | 0/1 [02:16<?, ? url/s]\n",
            "Dl Completed...:   0%|          | 0/1 [02:17<?, ? url/s]\n",
            "Dl Completed...:   0%|          | 0/1 [02:18<?, ? url/s]\n",
            "Dl Completed...:   0%|          | 0/1 [02:19<?, ? url/s]\n",
            "Dl Completed...:   0%|          | 0/1 [02:20<?, ? url/s]\n",
            "Dl Completed...:   0%|          | 0/1 [02:21<?, ? url/s]\n",
            "Dl Completed...:   0%|          | 0/1 [02:22<?, ? url/s]\n",
            "Dl Completed...:   0%|          | 0/1 [02:23<?, ? url/s]\n",
            "Dl Completed...:   0%|          | 0/1 [02:24<?, ? url/s]\n",
            "Dl Completed...:   0%|          | 0/1 [02:25<?, ? url/s]\n",
            "Dl Completed...:   0%|          | 0/1 [02:26<?, ? url/s]\n",
            "Dl Completed...:   0%|          | 0/1 [02:27<?, ? url/s]\n",
            "Dl Completed...:   0%|          | 0/1 [02:28<?, ? url/s]\n",
            "Dl Completed...:   0%|          | 0/1 [02:28<?, ? url/s]\n",
            "Dl Completed...:   0%|          | 0/1 [02:29<?, ? url/s]\n",
            "Dl Completed...:   0%|          | 0/1 [02:30<?, ? url/s]\n",
            "Dl Completed...:   0%|          | 0/1 [02:31<?, ? url/s]\n",
            "Dl Completed...:   0%|          | 0/1 [02:31<?, ? url/s]\n",
            "Dl Completed...:   0%|          | 0/1 [02:32<?, ? url/s]\n",
            "Dl Completed...:   0%|          | 0/1 [02:33<?, ? url/s]\n",
            "Dl Completed...:   0%|          | 0/1 [02:33<?, ? url/s]\n",
            "Dl Completed...:   0%|          | 0/1 [02:34<?, ? url/s]\n",
            "Dl Completed...:   0%|          | 0/1 [02:34<?, ? url/s]\n",
            "Dl Completed...:   0%|          | 0/1 [02:35<?, ? url/s]\n",
            "Dl Completed...:   0%|          | 0/1 [02:35<?, ? url/s]\n",
            "Dl Completed...:   0%|          | 0/1 [02:35<?, ? url/s]\n",
            "Dl Completed...:   0%|          | 0/1 [02:36<?, ? url/s]\n",
            "Dl Completed...:   0%|          | 0/1 [02:36<?, ? url/s]\n",
            "Dl Completed...:   0%|          | 0/1 [02:37<?, ? url/s]\n",
            "Dl Completed...:   0%|          | 0/1 [02:37<?, ? url/s]\n",
            "Dl Completed...:   0%|          | 0/1 [02:37<?, ? url/s]\n",
            "Dl Completed...:   0%|          | 0/1 [02:38<?, ? url/s]\n",
            "Dl Completed...:   0%|          | 0/1 [02:38<?, ? url/s]\n",
            "Dl Completed...:   0%|          | 0/1 [02:39<?, ? url/s]\n",
            "Dl Completed...:   0%|          | 0/1 [02:39<?, ? url/s]\n",
            "Dl Completed...:   0%|          | 0/1 [02:40<?, ? url/s]\n",
            "Dl Completed...:   0%|          | 0/1 [02:40<?, ? url/s]\n",
            "Dl Completed...:   0%|          | 0/1 [02:41<?, ? url/s]\n",
            "Dl Completed...:   0%|          | 0/1 [02:41<?, ? url/s]\n",
            "Dl Completed...:   0%|          | 0/1 [02:42<?, ? url/s]\n",
            "Dl Completed...:   0%|          | 0/1 [02:42<?, ? url/s]\n",
            "Dl Completed...:   0%|          | 0/1 [02:43<?, ? url/s]\n",
            "Dl Completed...:   0%|          | 0/1 [02:43<?, ? url/s]\n",
            "Dl Completed...:   0%|          | 0/1 [02:44<?, ? url/s]\n",
            "Dl Completed...:   0%|          | 0/1 [02:44<?, ? url/s]\n",
            "Dl Completed...:   0%|          | 0/1 [02:45<?, ? url/s]\n",
            "Dl Completed...:   0%|          | 0/1 [02:45<?, ? url/s]\n",
            "Dl Completed...:   0%|          | 0/1 [02:46<?, ? url/s]\n",
            "Dl Completed...:   0%|          | 0/1 [02:46<?, ? url/s]\n",
            "Dl Completed...:   0%|          | 0/1 [02:46<?, ? url/s]\n",
            "Dl Completed...:   0%|          | 0/1 [02:47<?, ? url/s]\n",
            "Dl Completed...:   0%|          | 0/1 [02:48<?, ? url/s]\n",
            "Dl Completed...:   0%|          | 0/1 [02:48<?, ? url/s]\n",
            "Dl Completed...:   0%|          | 0/1 [02:49<?, ? url/s]\n",
            "Dl Completed...:   0%|          | 0/1 [02:50<?, ? url/s]\n",
            "Dl Completed...:   0%|          | 0/1 [02:50<?, ? url/s]\n",
            "Dl Completed...:   0%|          | 0/1 [02:51<?, ? url/s]\n",
            "Dl Completed...:   0%|          | 0/1 [02:52<?, ? url/s]\n",
            "Dl Completed...:   0%|          | 0/1 [02:52<?, ? url/s]\n",
            "Dl Completed...:   0%|          | 0/1 [02:53<?, ? url/s]\n",
            "Dl Completed...:   0%|          | 0/1 [02:54<?, ? url/s]\n",
            "Dl Completed...:   0%|          | 0/1 [02:54<?, ? url/s]\n",
            "Dl Completed...:   0%|          | 0/1 [02:55<?, ? url/s]\n",
            "Dl Completed...:   0%|          | 0/1 [02:56<?, ? url/s]\n",
            "Dl Completed...:   0%|          | 0/1 [02:56<?, ? url/s]\n",
            "Dl Completed...:   0%|          | 0/1 [02:57<?, ? url/s]\n",
            "Dl Completed...:   0%|          | 0/1 [02:58<?, ? url/s]\n",
            "Dl Completed...:   0%|          | 0/1 [02:58<?, ? url/s]\n",
            "Dl Completed...:   0%|          | 0/1 [02:59<?, ? url/s]\n",
            "Dl Completed...:   0%|          | 0/1 [02:59<?, ? url/s]\n",
            "Dl Completed...:   0%|          | 0/1 [03:00<?, ? url/s]\n",
            "Dl Completed...:   0%|          | 0/1 [03:00<?, ? url/s]\n",
            "Dl Completed...:   0%|          | 0/1 [03:01<?, ? url/s]\n",
            "Dl Completed...:   0%|          | 0/1 [03:01<?, ? url/s]\n",
            "Dl Completed...:   0%|          | 0/1 [03:02<?, ? url/s]\n",
            "Dl Completed...:   0%|          | 0/1 [03:03<?, ? url/s]\n",
            "Dl Completed...:   0%|          | 0/1 [03:04<?, ? url/s]\n",
            "Dl Completed...:   0%|          | 0/1 [03:04<?, ? url/s]\n",
            "Dl Completed...:   0%|          | 0/1 [03:05<?, ? url/s]\n",
            "Dl Completed...:   0%|          | 0/1 [03:06<?, ? url/s]\n",
            "Dl Completed...:   0%|          | 0/1 [03:07<?, ? url/s]\n",
            "Dl Completed...:   0%|          | 0/1 [03:07<?, ? url/s]\n",
            "Dl Completed...:   0%|          | 0/1 [03:08<?, ? url/s]\n",
            "Dl Completed...:   0%|          | 0/1 [03:09<?, ? url/s]\n",
            "Dl Completed...:   0%|          | 0/1 [03:09<?, ? url/s]\n",
            "Dl Completed...:   0%|          | 0/1 [03:10<?, ? url/s]\n",
            "Dl Completed...:   0%|          | 0/1 [03:11<?, ? url/s]\n",
            "Dl Completed...:   0%|          | 0/1 [03:12<?, ? url/s]\n",
            "Dl Completed...:   0%|          | 0/1 [03:13<?, ? url/s]\n",
            "Dl Completed...:   0%|          | 0/1 [03:13<?, ? url/s]\n",
            "Dl Completed...:   0%|          | 0/1 [03:14<?, ? url/s]\n",
            "Dl Completed...:   0%|          | 0/1 [03:15<?, ? url/s]\n",
            "Dl Completed...:   0%|          | 0/1 [03:16<?, ? url/s]\n",
            "Dl Completed...:   0%|          | 0/1 [03:17<?, ? url/s]\n",
            "Dl Completed...:   0%|          | 0/1 [03:18<?, ? url/s]\n",
            "Dl Completed...:   0%|          | 0/1 [03:18<?, ? url/s]\n",
            "Dl Completed...:   0%|          | 0/1 [03:19<?, ? url/s]\n",
            "Dl Completed...:   0%|          | 0/1 [03:20<?, ? url/s]\n",
            "Dl Completed...:   0%|          | 0/1 [03:20<?, ? url/s]\n",
            "Dl Completed...:   0%|          | 0/1 [03:21<?, ? url/s]\n",
            "Dl Completed...:   0%|          | 0/1 [03:22<?, ? url/s]\n",
            "Dl Completed...:   0%|          | 0/1 [03:23<?, ? url/s]\n",
            "Dl Completed...:   0%|          | 0/1 [03:24<?, ? url/s]\n",
            "Dl Completed...:   0%|          | 0/1 [03:25<?, ? url/s]\n",
            "Dl Completed...:   0%|          | 0/1 [03:27<?, ? url/s]\n",
            "Dl Completed...:   0%|          | 0/1 [03:28<?, ? url/s]\n",
            "Dl Completed...:   0%|          | 0/1 [03:29<?, ? url/s]\n",
            "Dl Completed...:   0%|          | 0/1 [03:29<?, ? url/s]\n",
            "Dl Completed...:   0%|          | 0/1 [03:30<?, ? url/s]\n",
            "Dl Completed...:   0%|          | 0/1 [03:31<?, ? url/s]\n",
            "Dl Completed...:   0%|          | 0/1 [03:32<?, ? url/s]\n",
            "Dl Completed...:   0%|          | 0/1 [03:33<?, ? url/s]\n",
            "Dl Completed...:   0%|          | 0/1 [03:33<?, ? url/s]\n",
            "Dl Completed...:   0%|          | 0/1 [03:34<?, ? url/s]\n",
            "Dl Completed...:   0%|          | 0/1 [03:34<?, ? url/s]\n",
            "Dl Completed...:   0%|          | 0/1 [03:35<?, ? url/s]\n",
            "Dl Completed...:   0%|          | 0/1 [03:35<?, ? url/s]\n",
            "Dl Completed...:   0%|          | 0/1 [03:36<?, ? url/s]\n",
            "Dl Completed...:   0%|          | 0/1 [03:36<?, ? url/s]\n",
            "Dl Completed...:   0%|          | 0/1 [03:37<?, ? url/s]\n",
            "Dl Completed...:   0%|          | 0/1 [03:38<?, ? url/s]\n",
            "Dl Completed...:   0%|          | 0/1 [03:39<?, ? url/s]\n",
            "Dl Completed...:   0%|          | 0/1 [03:39<?, ? url/s]\n",
            "Dl Completed...:   0%|          | 0/1 [03:40<?, ? url/s]\n",
            "Dl Completed...:   0%|          | 0/1 [03:41<?, ? url/s]\n",
            "Dl Completed...:   0%|          | 0/1 [03:41<?, ? url/s]\n",
            "Dl Completed...:   0%|          | 0/1 [03:42<?, ? url/s]\n",
            "Dl Completed...:   0%|          | 0/1 [03:43<?, ? url/s]\n",
            "Dl Completed...:   0%|          | 0/1 [03:43<?, ? url/s]\n",
            "Dl Completed...:   0%|          | 0/1 [03:44<?, ? url/s]\n",
            "Dl Completed...:   0%|          | 0/1 [03:45<?, ? url/s]\n",
            "Dl Completed...:   0%|          | 0/1 [03:45<?, ? url/s]\n",
            "Dl Completed...:   0%|          | 0/1 [03:46<?, ? url/s]\n",
            "Dl Completed...:   0%|          | 0/1 [03:47<?, ? url/s]\n",
            "Dl Completed...:   0%|          | 0/1 [03:47<?, ? url/s]\n",
            "Dl Completed...:   0%|          | 0/1 [03:48<?, ? url/s]\n",
            "Dl Completed...:   0%|          | 0/1 [03:49<?, ? url/s]\n",
            "Dl Completed...:   0%|          | 0/1 [03:50<?, ? url/s]\n",
            "Dl Completed...:   0%|          | 0/1 [03:51<?, ? url/s]\n",
            "Dl Completed...:   0%|          | 0/1 [03:52<?, ? url/s]\n",
            "Dl Completed...:   0%|          | 0/1 [03:53<?, ? url/s]\n",
            "Dl Completed...:   0%|          | 0/1 [03:54<?, ? url/s]\n",
            "Dl Completed...:   0%|          | 0/1 [03:55<?, ? url/s]\n",
            "Dl Completed...:   0%|          | 0/1 [03:56<?, ? url/s]\n",
            "Dl Completed...:   0%|          | 0/1 [03:57<?, ? url/s]\n",
            "Dl Completed...:   0%|          | 0/1 [03:58<?, ? url/s]\n",
            "Dl Completed...:   0%|          | 0/1 [03:59<?, ? url/s]\n",
            "Dl Completed...:   0%|          | 0/1 [03:59<?, ? url/s]\n",
            "Dl Completed...:   0%|          | 0/1 [04:00<?, ? url/s]\n",
            "Dl Completed...:   0%|          | 0/1 [04:01<?, ? url/s]\n",
            "Dl Completed...:   0%|          | 0/1 [04:01<?, ? url/s]\n",
            "Dl Completed...:   0%|          | 0/1 [04:02<?, ? url/s]\n",
            "Dl Completed...:   0%|          | 0/1 [04:03<?, ? url/s]\n",
            "Dl Completed...:   0%|          | 0/1 [04:03<?, ? url/s]\n",
            "Dl Completed...:   0%|          | 0/1 [04:04<?, ? url/s]\n",
            "Dl Completed...:   0%|          | 0/1 [04:04<?, ? url/s]\n",
            "Dl Completed...:   0%|          | 0/1 [04:05<?, ? url/s]\n",
            "Dl Completed...:   0%|          | 0/1 [04:05<?, ? url/s]\n",
            "Dl Completed...:   0%|          | 0/1 [04:06<?, ? url/s]\n",
            "Dl Completed...:   0%|          | 0/1 [04:06<?, ? url/s]\n",
            "Dl Completed...:   0%|          | 0/1 [04:07<?, ? url/s]\n",
            "Dl Completed...:   0%|          | 0/1 [04:08<?, ? url/s]\n",
            "Dl Completed...:   0%|          | 0/1 [04:08<?, ? url/s]\n",
            "Dl Completed...:   0%|          | 0/1 [04:08<?, ? url/s]\n",
            "Dl Completed...:   0%|          | 0/1 [04:09<?, ? url/s]\n",
            "Dl Completed...:   0%|          | 0/1 [04:10<?, ? url/s]\n",
            "Dl Completed...:   0%|          | 0/1 [04:10<?, ? url/s]\n",
            "Dl Completed...:   0%|          | 0/1 [04:11<?, ? url/s]\n",
            "Dl Completed...:   0%|          | 0/1 [04:11<?, ? url/s]\n",
            "Dl Completed...:   0%|          | 0/1 [04:12<?, ? url/s]\n",
            "Dl Completed...:   0%|          | 0/1 [04:13<?, ? url/s]\n",
            "Dl Completed...:   0%|          | 0/1 [04:13<?, ? url/s]\n",
            "Dl Completed...:   0%|          | 0/1 [04:14<?, ? url/s]\n",
            "Dl Completed...:   0%|          | 0/1 [04:14<?, ? url/s]\n",
            "Dl Completed...:   0%|          | 0/1 [04:15<?, ? url/s]\n",
            "Dl Completed...:   0%|          | 0/1 [04:15<?, ? url/s]\n",
            "Dl Completed...:   0%|          | 0/1 [04:16<?, ? url/s]\n",
            "Dl Completed...:   0%|          | 0/1 [04:16<?, ? url/s]\n",
            "Dl Completed...:   0%|          | 0/1 [04:17<?, ? url/s]\n",
            "Dl Completed...:   0%|          | 0/1 [04:18<?, ? url/s]\n",
            "Dl Completed...:   0%|          | 0/1 [04:18<?, ? url/s]\n",
            "Dl Completed...:   0%|          | 0/1 [04:19<?, ? url/s]\n",
            "Dl Completed...:   0%|          | 0/1 [04:19<?, ? url/s]\n",
            "Dl Completed...:   0%|          | 0/1 [04:20<?, ? url/s]\n",
            "Dl Completed...:   0%|          | 0/1 [04:20<?, ? url/s]\n",
            "Dl Completed...:   0%|          | 0/1 [04:21<?, ? url/s]\n",
            "Dl Completed...:   0%|          | 0/1 [04:21<?, ? url/s]\n",
            "Dl Completed...:   0%|          | 0/1 [04:21<?, ? url/s]\n",
            "Dl Completed...:   0%|          | 0/1 [04:22<?, ? url/s]\n",
            "Dl Completed...:   0%|          | 0/1 [04:22<?, ? url/s]\n",
            "Dl Completed...:   0%|          | 0/1 [04:23<?, ? url/s]\n",
            "Dl Completed...:   0%|          | 0/1 [04:23<?, ? url/s]\n",
            "Dl Completed...:   0%|          | 0/1 [04:24<?, ? url/s]\n",
            "Dl Completed...:   0%|          | 0/1 [04:24<?, ? url/s]\n",
            "Dl Completed...:   0%|          | 0/1 [04:25<?, ? url/s]\n",
            "Dl Completed...:   0%|          | 0/1 [04:25<?, ? url/s]\n",
            "Dl Completed...:   0%|          | 0/1 [04:26<?, ? url/s]\n",
            "Dl Completed...:   0%|          | 0/1 [04:26<?, ? url/s]\n",
            "Dl Completed...:   0%|          | 0/1 [04:26<?, ? url/s]\n",
            "Dl Completed...:   0%|          | 0/1 [04:27<?, ? url/s]\n",
            "Dl Completed...:   0%|          | 0/1 [04:28<?, ? url/s]\n",
            "Dl Completed...:   0%|          | 0/1 [04:28<?, ? url/s]\n",
            "Dl Completed...:   0%|          | 0/1 [04:28<?, ? url/s]\n",
            "Dl Completed...:   0%|          | 0/1 [04:29<?, ? url/s]\n",
            "Dl Completed...:   0%|          | 0/1 [04:29<?, ? url/s]\n",
            "Dl Completed...:   0%|          | 0/1 [04:29<?, ? url/s]\n",
            "Dl Completed...:   0%|          | 0/1 [04:30<?, ? url/s]\n",
            "Dl Completed...:   0%|          | 0/1 [04:31<?, ? url/s]\n",
            "Dl Completed...:   0%|          | 0/1 [04:31<?, ? url/s]\n",
            "Dl Completed...:   0%|          | 0/1 [04:31<?, ? url/s]\n",
            "Dl Completed...:   0%|          | 0/1 [04:32<?, ? url/s]\n",
            "Dl Completed...:   0%|          | 0/1 [04:33<?, ? url/s]\n",
            "Dl Completed...:   0%|          | 0/1 [04:33<?, ? url/s]\n",
            "Dl Completed...:   0%|          | 0/1 [04:34<?, ? url/s]\n",
            "Dl Completed...:   0%|          | 0/1 [04:35<?, ? url/s]\n",
            "Dl Completed...:   0%|          | 0/1 [04:36<?, ? url/s]\n",
            "Dl Completed...:   0%|          | 0/1 [04:37<?, ? url/s]\n",
            "Dl Completed...:   0%|          | 0/1 [04:37<?, ? url/s]\n",
            "Dl Completed...:   0%|          | 0/1 [04:38<?, ? url/s]\n",
            "Dl Completed...:   0%|          | 0/1 [04:40<?, ? url/s]\n",
            "Dl Completed...:   0%|          | 0/1 [04:41<?, ? url/s]\n",
            "Dl Completed...:   0%|          | 0/1 [04:42<?, ? url/s]\n",
            "Dl Completed...:   0%|          | 0/1 [04:43<?, ? url/s]\n",
            "Dl Completed...:   0%|          | 0/1 [04:44<?, ? url/s]\n",
            "Dl Completed...:   0%|          | 0/1 [04:45<?, ? url/s]\n",
            "Dl Completed...:   0%|          | 0/1 [04:49<?, ? url/s]\n",
            "Dl Completed...:   0%|          | 0/1 [04:50<?, ? url/s]\n",
            "Dl Completed...:   0%|          | 0/1 [04:51<?, ? url/s]\n",
            "Dl Completed...:   0%|          | 0/1 [04:52<?, ? url/s]\n",
            "Dl Completed...:   0%|          | 0/1 [04:54<?, ? url/s]\n",
            "Dl Completed...:   0%|          | 0/1 [04:55<?, ? url/s]\n",
            "Dl Completed...:   0%|          | 0/1 [04:56<?, ? url/s]\n",
            "Dl Completed...:   0%|          | 0/1 [04:57<?, ? url/s]\n",
            "Dl Completed...:   0%|          | 0/1 [04:59<?, ? url/s]\n",
            "Dl Completed...:   0%|          | 0/1 [05:02<?, ? url/s]\n",
            "Dl Completed...:   0%|          | 0/1 [05:03<?, ? url/s]\n",
            "Dl Completed...:   0%|          | 0/1 [05:04<?, ? url/s]\n",
            "Dl Completed...:   0%|          | 0/1 [05:07<?, ? url/s]\n",
            "Dl Completed...:   0%|          | 0/1 [05:09<?, ? url/s]\n",
            "Dl Completed...:   0%|          | 0/1 [05:11<?, ? url/s]\n",
            "Dl Completed...:   0%|          | 0/1 [05:12<?, ? url/s]\n",
            "Dl Completed...:   0%|          | 0/1 [05:14<?, ? url/s]\n",
            "Dl Completed...:   0%|          | 0/1 [05:15<?, ? url/s]\n",
            "Dl Completed...:   0%|          | 0/1 [05:17<?, ? url/s]\n",
            "Dl Completed...:   0%|          | 0/1 [05:18<?, ? url/s]\n",
            "Dl Completed...:   0%|          | 0/1 [05:19<?, ? url/s]\n",
            "Dl Completed...:   0%|          | 0/1 [05:21<?, ? url/s]\n",
            "Dl Completed...:   0%|          | 0/1 [05:22<?, ? url/s]\n",
            "Dl Completed...:   0%|          | 0/1 [05:23<?, ? url/s]\n",
            "Dl Completed...:   0%|          | 0/1 [05:23<?, ? url/s]\n",
            "Dl Completed...:   0%|          | 0/1 [05:24<?, ? url/s]\n",
            "Dl Completed...:   0%|          | 0/1 [05:24<?, ? url/s]\n",
            "Dl Completed...:   0%|          | 0/1 [05:31<?, ? url/s]\n",
            "Dl Completed...:   0%|          | 0/1 [05:32<?, ? url/s]\n",
            "Dl Completed...:   0%|          | 0/1 [05:32<?, ? url/s]\n",
            "Dl Completed...:   0%|          | 0/1 [05:32<?, ? url/s]\n",
            "Dl Completed...:   0%|          | 0/1 [05:32<?, ? url/s]\n",
            "Dl Completed...:   0%|          | 0/1 [05:33<?, ? url/s]\n",
            "Dl Completed...:   0%|          | 0/1 [05:33<?, ? url/s]\n",
            "Dl Completed...:   0%|          | 0/1 [05:33<?, ? url/s]\n",
            "Dl Completed...:   0%|          | 0/1 [05:34<?, ? url/s]\n",
            "Dl Completed...:   0%|          | 0/1 [05:34<?, ? url/s]\n",
            "Dl Completed...:   0%|          | 0/1 [05:35<?, ? url/s]\n",
            "Dl Completed...:   0%|          | 0/1 [05:36<?, ? url/s]\n",
            "Dl Completed...:   0%|          | 0/1 [05:36<?, ? url/s]\n",
            "Dl Completed...:   0%|          | 0/1 [05:36<?, ? url/s]\n",
            "Dl Completed...:   0%|          | 0/1 [05:37<?, ? url/s]\n",
            "Dl Completed...:   0%|          | 0/1 [05:37<?, ? url/s]\n",
            "Dl Completed...:   0%|          | 0/1 [05:37<?, ? url/s]\n",
            "Dl Completed...:   0%|          | 0/1 [05:37<?, ? url/s]\n",
            "Dl Completed...:   0%|          | 0/1 [05:38<?, ? url/s]\n",
            "Dl Completed...:   0%|          | 0/1 [05:38<?, ? url/s]\n",
            "Dl Completed...:   0%|          | 0/1 [05:39<?, ? url/s]\n",
            "Dl Completed...:   0%|          | 0/1 [05:39<?, ? url/s]\n",
            "Dl Completed...:   0%|          | 0/1 [05:39<?, ? url/s]\n",
            "Dl Completed...:   0%|          | 0/1 [05:40<?, ? url/s]\n",
            "Dl Completed...:   0%|          | 0/1 [05:40<?, ? url/s]\n",
            "Dl Completed...:   0%|          | 0/1 [05:41<?, ? url/s]\n",
            "Dl Completed...:   0%|          | 0/1 [05:41<?, ? url/s]\n",
            "Dl Completed...:   0%|          | 0/1 [05:41<?, ? url/s]\n",
            "Dl Completed...:   0%|          | 0/1 [05:42<?, ? url/s]\n",
            "Dl Completed...:   0%|          | 0/1 [05:42<?, ? url/s]\n",
            "Dl Completed...:   0%|          | 0/1 [05:43<?, ? url/s]\n",
            "Dl Completed...:   0%|          | 0/1 [05:43<?, ? url/s]\n",
            "Dl Completed...:   0%|          | 0/1 [05:43<?, ? url/s]\n",
            "Dl Completed...:   0%|          | 0/1 [05:44<?, ? url/s]\n",
            "Dl Completed...:   0%|          | 0/1 [05:44<?, ? url/s]\n",
            "Dl Completed...:   0%|          | 0/1 [05:45<?, ? url/s]\n",
            "Dl Completed...:   0%|          | 0/1 [05:45<?, ? url/s]\n",
            "Dl Completed...:   0%|          | 0/1 [05:45<?, ? url/s]\n",
            "Dl Completed...:   0%|          | 0/1 [05:46<?, ? url/s]\n",
            "Dl Completed...:   0%|          | 0/1 [05:46<?, ? url/s]\n",
            "Dl Completed...:   0%|          | 0/1 [05:47<?, ? url/s]\n",
            "Dl Completed...:   0%|          | 0/1 [05:49<?, ? url/s]\n",
            "Dl Completed...:   0%|          | 0/1 [05:49<?, ? url/s]\n",
            "Dl Completed...:   0%|          | 0/1 [05:49<?, ? url/s]\n",
            "Dl Completed...:   0%|          | 0/1 [05:50<?, ? url/s]\n",
            "Dl Completed...:   0%|          | 0/1 [05:50<?, ? url/s]\n",
            "Dl Completed...:   0%|          | 0/1 [05:51<?, ? url/s]\n",
            "Dl Completed...:   0%|          | 0/1 [05:52<?, ? url/s]\n",
            "Dl Completed...:   0%|          | 0/1 [05:52<?, ? url/s]\n",
            "Dl Completed...:   0%|          | 0/1 [05:53<?, ? url/s]\n",
            "Dl Completed...:   0%|          | 0/1 [05:54<?, ? url/s]\n",
            "Dl Completed...:   0%|          | 0/1 [05:54<?, ? url/s]\n",
            "Dl Completed...:   0%|          | 0/1 [05:55<?, ? url/s]\n",
            "Dl Completed...:   0%|          | 0/1 [05:56<?, ? url/s]\n",
            "Dl Completed...:   0%|          | 0/1 [05:56<?, ? url/s]\n",
            "Dl Completed...:   0%|          | 0/1 [05:57<?, ? url/s]\n",
            "Dl Completed...:   0%|          | 0/1 [05:58<?, ? url/s]\n",
            "Dl Completed...:   0%|          | 0/1 [05:58<?, ? url/s]\n",
            "Dl Completed...:   0%|          | 0/1 [05:59<?, ? url/s]\n",
            "Dl Completed...:   0%|          | 0/1 [06:00<?, ? url/s]\n",
            "Dl Completed...:   0%|          | 0/1 [06:00<?, ? url/s]\n",
            "Dl Completed...:   0%|          | 0/1 [06:01<?, ? url/s]\n",
            "Dl Completed...:   0%|          | 0/1 [06:01<?, ? url/s]\n",
            "Dl Completed...:   0%|          | 0/1 [06:02<?, ? url/s]\n",
            "Dl Completed...:   0%|          | 0/1 [06:02<?, ? url/s]\n",
            "Dl Completed...:   0%|          | 0/1 [06:03<?, ? url/s]\n",
            "Dl Completed...:   0%|          | 0/1 [06:03<?, ? url/s]\n",
            "Dl Completed...:   0%|          | 0/1 [06:04<?, ? url/s]\n",
            "Dl Completed...:   0%|          | 0/1 [06:04<?, ? url/s]\n",
            "Dl Completed...:   0%|          | 0/1 [06:04<?, ? url/s]\n",
            "Dl Completed...:   0%|          | 0/1 [06:05<?, ? url/s]\n",
            "Dl Completed...:   0%|          | 0/1 [06:05<?, ? url/s]\n",
            "Dl Completed...:   0%|          | 0/1 [06:06<?, ? url/s]\n",
            "Dl Completed...:   0%|          | 0/1 [06:06<?, ? url/s]\n",
            "Dl Completed...:   0%|          | 0/1 [06:07<?, ? url/s]\n",
            "Dl Completed...:   0%|          | 0/1 [06:07<?, ? url/s]\n",
            "Dl Completed...:   0%|          | 0/1 [06:07<?, ? url/s]\n",
            "Dl Completed...:   0%|          | 0/1 [06:08<?, ? url/s]\n",
            "Dl Completed...:   0%|          | 0/1 [06:08<?, ? url/s]\n",
            "Dl Completed...:   0%|          | 0/1 [06:08<?, ? url/s]\n",
            "Dl Completed...:   0%|          | 0/1 [06:09<?, ? url/s]\n",
            "Dl Completed...:   0%|          | 0/1 [06:09<?, ? url/s]\n",
            "Dl Completed...:   0%|          | 0/1 [06:10<?, ? url/s]\n",
            "Dl Completed...:   0%|          | 0/1 [06:11<?, ? url/s]\n",
            "Dl Completed...:   0%|          | 0/1 [06:12<?, ? url/s]\n",
            "Dl Completed...:   0%|          | 0/1 [06:12<?, ? url/s]\n",
            "Dl Completed...:   0%|          | 0/1 [06:12<?, ? url/s]\n",
            "Dl Completed...:   0%|          | 0/1 [06:13<?, ? url/s]\n",
            "Dl Completed...:   0%|          | 0/1 [06:13<?, ? url/s]\n",
            "Dl Completed...:   0%|          | 0/1 [06:14<?, ? url/s]\n",
            "Dl Completed...:   0%|          | 0/1 [06:14<?, ? url/s]\n",
            "Dl Completed...:   0%|          | 0/1 [06:14<?, ? url/s]\n",
            "Dl Completed...:   0%|          | 0/1 [06:15<?, ? url/s]\n",
            "Dl Completed...:   0%|          | 0/1 [06:15<?, ? url/s]\n",
            "Dl Completed...:   0%|          | 0/1 [06:16<?, ? url/s]\n",
            "Dl Completed...:   0%|          | 0/1 [06:16<?, ? url/s]\n",
            "Dl Completed...:   0%|          | 0/1 [06:16<?, ? url/s]\n",
            "Dl Completed...:   0%|          | 0/1 [06:17<?, ? url/s]\n",
            "Dl Completed...:   0%|          | 0/1 [06:17<?, ? url/s]\n",
            "Dl Completed...:   0%|          | 0/1 [06:18<?, ? url/s]\n",
            "Dl Completed...:   0%|          | 0/1 [06:18<?, ? url/s]\n",
            "Dl Completed...:   0%|          | 0/1 [06:18<?, ? url/s]\n",
            "Dl Completed...:   0%|          | 0/1 [06:19<?, ? url/s]\n",
            "Dl Completed...:   0%|          | 0/1 [06:19<?, ? url/s]\n",
            "Dl Completed...:   0%|          | 0/1 [06:20<?, ? url/s]\n",
            "Dl Completed...:   0%|          | 0/1 [06:20<?, ? url/s]\n",
            "Dl Completed...:   0%|          | 0/1 [06:21<?, ? url/s]\n",
            "Dl Completed...:   0%|          | 0/1 [06:22<?, ? url/s]\n",
            "Dl Completed...: 100%|██████████| 1/1 [06:22<00:00, 382.29s/ url]\n",
            "Dl Completed...: 100%|██████████| 1/1 [06:22<00:00, 382.29s/ url]\n",
            "Dl Completed...: 100%|██████████| 1/1 [06:22<00:00, 382.29s/ url]\n",
            "Dl Completed...: 100%|██████████| 1/1 [06:22<00:00, 382.29s/ url]\n",
            "Dl Completed...: 100%|██████████| 1/1 [06:22<00:00, 382.29s/ url]\n",
            "Dl Completed...: 100%|██████████| 1/1 [06:22<00:00, 382.29s/ url]\n",
            "Dl Completed...: 100%|██████████| 1/1 [06:22<00:00, 382.29s/ url]\n",
            "Dl Completed...: 100%|██████████| 1/1 [06:22<00:00, 382.29s/ url]\n",
            "Dl Completed...: 100%|██████████| 1/1 [06:22<00:00, 382.29s/ url]\n",
            "Dl Completed...: 100%|██████████| 1/1 [06:22<00:00, 382.29s/ url]\n",
            "Dl Completed...: 100%|██████████| 1/1 [06:22<00:00, 382.29s/ url]\n",
            "Dl Completed...: 100%|██████████| 1/1 [06:22<00:00, 382.29s/ url]\n",
            "Dl Completed...: 100%|██████████| 1/1 [06:22<00:00, 382.29s/ url]\n",
            "Dl Completed...: 100%|██████████| 1/1 [06:22<00:00, 382.29s/ url]\n",
            "Dl Completed...: 100%|██████████| 1/1 [06:23<00:00, 382.29s/ url]\n",
            "Dl Completed...: 100%|██████████| 1/1 [06:23<00:00, 382.29s/ url]\n",
            "Dl Completed...: 100%|██████████| 1/1 [06:23<00:00, 382.29s/ url]\n",
            "Dl Completed...: 100%|██████████| 1/1 [06:23<00:00, 382.29s/ url]\n",
            "Dl Completed...: 100%|██████████| 1/1 [06:23<00:00, 382.29s/ url]\n",
            "Dl Completed...: 100%|██████████| 1/1 [06:23<00:00, 382.29s/ url]\n",
            "Dl Completed...: 100%|██████████| 1/1 [06:23<00:00, 382.29s/ url]\n",
            "Dl Completed...: 100%|██████████| 1/1 [06:23<00:00, 382.29s/ url]\n",
            "Dl Completed...: 100%|██████████| 1/1 [06:23<00:00, 382.29s/ url]\n",
            "Dl Completed...: 100%|██████████| 1/1 [06:23<00:00, 382.29s/ url]\n",
            "Dl Completed...: 100%|██████████| 1/1 [06:23<00:00, 382.29s/ url]\n",
            "Dl Completed...: 100%|██████████| 1/1 [06:23<00:00, 382.29s/ url]\n",
            "Dl Completed...: 100%|██████████| 1/1 [06:23<00:00, 382.29s/ url]\n",
            "Dl Completed...: 100%|██████████| 1/1 [06:23<00:00, 382.29s/ url]\n",
            "Dl Completed...: 100%|██████████| 1/1 [06:23<00:00, 382.29s/ url]\n",
            "Dl Completed...: 100%|██████████| 1/1 [06:23<00:00, 382.29s/ url]\n",
            "Dl Completed...: 100%|██████████| 1/1 [06:23<00:00, 382.29s/ url]\n",
            "\u001b[A\n",
            "Dl Completed...: 100%|██████████| 1/1 [06:23<00:00, 382.29s/ url]\n",
            "Dl Completed...: 100%|██████████| 1/1 [06:23<00:00, 382.29s/ url]\n",
            "Dl Completed...: 100%|██████████| 1/1 [06:23<00:00, 382.29s/ url]\n",
            "Dl Completed...: 100%|██████████| 1/1 [06:23<00:00, 382.29s/ url]\n",
            "Dl Completed...: 100%|██████████| 1/1 [06:23<00:00, 382.29s/ url]\n",
            "Dl Completed...: 100%|██████████| 1/1 [06:23<00:00, 382.29s/ url]\n",
            "Dl Completed...: 100%|██████████| 1/1 [06:23<00:00, 382.29s/ url]\n",
            "Dl Completed...: 100%|██████████| 1/1 [06:23<00:00, 382.29s/ url]\n",
            "Dl Completed...: 100%|██████████| 1/1 [06:23<00:00, 382.29s/ url]\n",
            "Dl Completed...: 100%|██████████| 1/1 [06:23<00:00, 382.29s/ url]\n",
            "Dl Completed...: 100%|██████████| 1/1 [06:23<00:00, 382.29s/ url]\n",
            "Dl Completed...: 100%|██████████| 1/1 [06:23<00:00, 382.29s/ url]\n",
            "Dl Completed...: 100%|██████████| 1/1 [06:23<00:00, 382.29s/ url]\n",
            "Dl Completed...: 100%|██████████| 1/1 [06:23<00:00, 382.29s/ url]\n",
            "Dl Completed...: 100%|██████████| 1/1 [06:23<00:00, 382.29s/ url]\n",
            "Dl Completed...: 100%|██████████| 1/1 [06:23<00:00, 382.29s/ url]\n",
            "Dl Completed...: 100%|██████████| 1/1 [06:23<00:00, 382.29s/ url]\n",
            "Dl Completed...: 100%|██████████| 1/1 [06:23<00:00, 382.29s/ url]\n",
            "Dl Completed...: 100%|██████████| 1/1 [06:23<00:00, 382.29s/ url]\n",
            "Dl Completed...: 100%|██████████| 1/1 [06:23<00:00, 382.29s/ url]\n",
            "Dl Completed...: 100%|██████████| 1/1 [06:23<00:00, 382.29s/ url]\n",
            "Dl Completed...: 100%|██████████| 1/1 [06:23<00:00, 382.29s/ url]\n",
            "Dl Completed...: 100%|██████████| 1/1 [06:23<00:00, 382.29s/ url]\n",
            "Dl Completed...: 100%|██████████| 1/1 [06:23<00:00, 382.29s/ url]\n",
            "Dl Completed...: 100%|██████████| 1/1 [06:23<00:00, 382.29s/ url]\n",
            "Dl Completed...: 100%|██████████| 1/1 [06:23<00:00, 382.29s/ url]\n",
            "Dl Completed...: 100%|██████████| 1/1 [06:23<00:00, 382.29s/ url]\n",
            "Dl Completed...: 100%|██████████| 1/1 [06:23<00:00, 382.29s/ url]\n",
            "Dl Completed...: 100%|██████████| 1/1 [06:23<00:00, 382.29s/ url]\n",
            "Dl Completed...: 100%|██████████| 1/1 [06:23<00:00, 382.29s/ url]\n",
            "Extraction completed...: 100%|██████████| 30/30 [06:23<00:00, 12.80s/ file] \n",
            "Dl Size...: 100%|██████████| 535/535 [06:23<00:00,  1.39 MiB/s]\n",
            "Dl Completed...: 100%|██████████| 1/1 [06:23<00:00, 383.95s/ url]\n",
            "Extraction completed...: 100%|██████████| 4/4 [00:00<00:00,  4.25 file/s] \n",
            "Generating splits...:   0%|          | 0/2 [00:00<?, ? splits/s]2024-03-05 17:43:06.476810: I external/local_xla/xla/stream_executor/cuda/cuda_executor.cc:887] could not open file to read NUMA node: /sys/bus/pci/devices/0000:01:00.0/numa_node\n",
            "Your kernel may have been built without NUMA support.\n",
            "2024-03-05 17:43:06.572653: I external/local_xla/xla/stream_executor/cuda/cuda_executor.cc:887] could not open file to read NUMA node: /sys/bus/pci/devices/0000:01:00.0/numa_node\n",
            "Your kernel may have been built without NUMA support.\n",
            "2024-03-05 17:43:06.572709: I external/local_xla/xla/stream_executor/cuda/cuda_executor.cc:887] could not open file to read NUMA node: /sys/bus/pci/devices/0000:01:00.0/numa_node\n",
            "Your kernel may have been built without NUMA support.\n",
            "2024-03-05 17:43:06.576013: I external/local_xla/xla/stream_executor/cuda/cuda_executor.cc:887] could not open file to read NUMA node: /sys/bus/pci/devices/0000:01:00.0/numa_node\n",
            "Your kernel may have been built without NUMA support.\n",
            "2024-03-05 17:43:06.576071: I external/local_xla/xla/stream_executor/cuda/cuda_executor.cc:887] could not open file to read NUMA node: /sys/bus/pci/devices/0000:01:00.0/numa_node\n",
            "Your kernel may have been built without NUMA support.\n",
            "2024-03-05 17:43:06.576107: I external/local_xla/xla/stream_executor/cuda/cuda_executor.cc:887] could not open file to read NUMA node: /sys/bus/pci/devices/0000:01:00.0/numa_node\n",
            "Your kernel may have been built without NUMA support.\n",
            "2024-03-05 17:43:06.788785: I external/local_xla/xla/stream_executor/cuda/cuda_executor.cc:887] could not open file to read NUMA node: /sys/bus/pci/devices/0000:01:00.0/numa_node\n",
            "Your kernel may have been built without NUMA support.\n",
            "2024-03-05 17:43:06.788865: I external/local_xla/xla/stream_executor/cuda/cuda_executor.cc:887] could not open file to read NUMA node: /sys/bus/pci/devices/0000:01:00.0/numa_node\n",
            "Your kernel may have been built without NUMA support.\n",
            "2024-03-05 17:43:06.788871: I tensorflow/core/common_runtime/gpu/gpu_device.cc:2022] Could not identify NUMA node of platform GPU id 0, defaulting to 0.  Your kernel may not have been built with NUMA support.\n",
            "2024-03-05 17:43:06.788901: I external/local_xla/xla/stream_executor/cuda/cuda_executor.cc:887] could not open file to read NUMA node: /sys/bus/pci/devices/0000:01:00.0/numa_node\n",
            "Your kernel may have been built without NUMA support.\n",
            "2024-03-05 17:43:06.788920: I tensorflow/core/common_runtime/gpu/gpu_device.cc:1929] Created device /job:localhost/replica:0/task:0/device:GPU:0 with 3600 MB memory:  -> device: 0, name: NVIDIA GeForce RTX 3060 Laptop GPU, pci bus id: 0000:01:00.0, compute capability: 8.6\n",
            "                                                                         "
          ]
        },
        {
          "name": "stdout",
          "output_type": "stream",
          "text": [
            "\u001b[1mDataset emnist downloaded and prepared to /home/alfred/tensorflow_datasets/emnist/digits/3.0.0. Subsequent calls will reuse this data.\u001b[0m\n"
          ]
        },
        {
          "name": "stderr",
          "output_type": "stream",
          "text": [
            "\r"
          ]
        }
      ],
      "source": [
        "(train_data, test_data), ds_info = tfds.load(name=\"emnist/digits\",\n",
        "                                             split=[\"train\", \"test\"],\n",
        "                                             shuffle_files=True,\n",
        "                                             as_supervised=True, # Data gets returned in tuple format (data, label)\n",
        "                                             with_info=True)"
      ]
    },
    {
      "cell_type": "code",
      "execution_count": 16,
      "metadata": {},
      "outputs": [
        {
          "data": {
            "text/plain": [
              "<tensorflow_datasets.core.dataset_utils._IterableDataset at 0x7f8d8c452b00>"
            ]
          },
          "execution_count": 16,
          "metadata": {},
          "output_type": "execute_result"
        }
      ],
      "source": []
    },
    {
      "cell_type": "code",
      "execution_count": 11,
      "metadata": {},
      "outputs": [
        {
          "data": {
            "text/plain": [
              "40000"
            ]
          },
          "execution_count": 11,
          "metadata": {},
          "output_type": "execute_result"
        }
      ],
      "source": [
        "len (test_data)"
      ]
    },
    {
      "cell_type": "code",
      "execution_count": 21,
      "metadata": {},
      "outputs": [],
      "source": [
        "train_data = train_data.concatenate(test_data)"
      ]
    },
    {
      "cell_type": "code",
      "execution_count": 54,
      "metadata": {},
      "outputs": [],
      "source": [
        "\n",
        "train_data_list = list(train_data)\n",
        "\n",
        "# Write the serialized tensor to a file\n",
        "with open('tensor.pkl', 'wb') as f:\n",
        "    pickle.dump(train_data_list ,f)"
      ]
    },
    {
      "cell_type": "code",
      "execution_count": 23,
      "metadata": {
        "id": "EoKMzM5oyk-p"
      },
      "outputs": [],
      "source": [
        "dataset = []\n",
        "for image, label in tfds.as_numpy(train_data):\n",
        "  dataset.append({\n",
        "      'image' : image,\n",
        "      'label' : int(label)\n",
        "  })"
      ]
    },
    {
      "cell_type": "code",
      "execution_count": 2,
      "metadata": {
        "id": "J1C_RkdUyk-p"
      },
      "outputs": [],
      "source": [
        "import pickle"
      ]
    },
    {
      "cell_type": "code",
      "execution_count": 24,
      "metadata": {
        "id": "8qKeqtBmyk-p"
      },
      "outputs": [],
      "source": [
        "with open('dataset_concat.pkl', 'wb') as f:\n",
        "    pickle.dump(dataset, f)"
      ]
    },
    {
      "cell_type": "code",
      "execution_count": 4,
      "metadata": {
        "id": "XReRjoLlyk-q"
      },
      "outputs": [],
      "source": [
        "with open('dataset.pkl', 'rb') as f:\n",
        "    dataset = pickle.load(f)"
      ]
    },
    {
      "cell_type": "code",
      "execution_count": 25,
      "metadata": {
        "id": "R9oZgoJMyk-q"
      },
      "outputs": [],
      "source": [
        "X = []\n",
        "Y = []\n",
        "for i in range(len(dataset)):\n",
        "  X.append(tf.cast(dataset[i]['image'], tf.float32) / 255)\n",
        "  Y.append(tf.one_hot(dataset[i]['label'], depth=10))\n",
        "\n",
        "X = np.array(X)\n",
        "Y = np.array(Y)"
      ]
    },
    {
      "cell_type": "code",
      "execution_count": 26,
      "metadata": {
        "id": "6Sd3cgDfyk-r"
      },
      "outputs": [],
      "source": [
        "with open('datax_concat.pkl','wb') as f:\n",
        "    pickle.dump(X, f)\n",
        "\n",
        "with open('datay_concat.pkl','wb') as f:\n",
        "    pickle.dump(Y, f)"
      ]
    },
    {
      "cell_type": "code",
      "execution_count": 6,
      "metadata": {
        "id": "fz3Vdv0dyk-r"
      },
      "outputs": [],
      "source": [
        "with open('datax.pkl','rb') as f:\n",
        "    X = pickle.load(f)\n",
        "with open('datay.pkl','rb') as f:\n",
        "    Y = pickle.load(f)"
      ]
    },
    {
      "cell_type": "code",
      "execution_count": 27,
      "metadata": {
        "id": "yoEnntAdyk-r"
      },
      "outputs": [],
      "source": [
        "Xtrain, Xtest, Ytrain, Ytest = train_test_split(X, Y, test_size=0.2, random_state=42)"
      ]
    },
    {
      "cell_type": "code",
      "execution_count": 28,
      "metadata": {},
      "outputs": [],
      "source": [
        "with open('x_train.pkl','wb') as f:\n",
        "    pickle.dump(Xtrain, f)\n",
        "\n",
        "with open('y_train.pkl','wb') as f:\n",
        "    pickle.dump(Ytrain, f)\n",
        "\n",
        "with open('x_test.pkl','wb') as f:\n",
        "    pickle.dump(Xtest, f)\n",
        "\n",
        "with open('y_test.pkl','wb') as f:\n",
        "    pickle.dump(Ytest, f)"
      ]
    },
    {
      "cell_type": "code",
      "execution_count": null,
      "metadata": {},
      "outputs": [],
      "source": [
        "with open('x_train_concat.pkl','rb') as f:\n",
        "    Xtrain = pickle.load(f)\n",
        "with open('y_train_concat.pkl','rb') as f:\n",
        "    Ytrain = pickle.load(f)\n",
        "\n",
        "with open('x_test_concat.pkl','rb') as f:\n",
        "    Xtest = pickle.load(f)\n",
        "with open('y_test_concat.pkl','rb') as f:\n",
        "    Ytest = pickle.load(f)"
      ]
    },
    {
      "cell_type": "markdown",
      "metadata": {
        "id": "rUpvcjHj-0Z2"
      },
      "source": [
        "Data Plotting"
      ]
    },
    {
      "cell_type": "code",
      "execution_count": 29,
      "metadata": {
        "id": "ecS3FmRByk-t"
      },
      "outputs": [],
      "source": [
        "# Plot the validation and training curves separately\n",
        "def plot_loss_curves(history):\n",
        "    \"\"\"\n",
        "    Returns separate loss curves for training and validation metrics\n",
        "    \"\"\"\n",
        "    loss = history.history['loss']\n",
        "    val_loss = history.history['val_loss']\n",
        "\n",
        "    accuracy = history.history['accuracy']\n",
        "    val_accuracy = history.history['val_accuracy']\n",
        "\n",
        "    epochs = range(len(history.history['loss'])) # How many epochs\n",
        "\n",
        "\n",
        "    # Plot loss\n",
        "    plt.plot(epochs, loss, label=\"training_loss\")\n",
        "    plt.plot(epochs, val_loss, label=\"val_loss\")\n",
        "    plt.title(\"loss\")\n",
        "    plt.xlabel(\"epochs\")\n",
        "    plt.legend()\n",
        "\n",
        "    # Plot accuracy\n",
        "    plt.figure()\n",
        "    plt.plot(epochs, accuracy, label=\"training_accuracy\")\n",
        "    plt.plot(epochs, val_accuracy, label=\"val_accuracy\")\n",
        "    plt.title(\"accuracy\")\n",
        "    plt.xlabel(\"epochs\")\n",
        "    plt.legend()"
      ]
    },
    {
      "cell_type": "markdown",
      "metadata": {
        "id": "a89rxN5Z-0Z2"
      },
      "source": [
        "Alexnet"
      ]
    },
    {
      "cell_type": "code",
      "execution_count": 35,
      "metadata": {
        "id": "lNYv08ES-0Z3",
        "outputId": "71b004bd-fbbf-47fe-8c9b-d1ba1724ab72"
      },
      "outputs": [
        {
          "name": "stdout",
          "output_type": "stream",
          "text": [
            "Model: \"sequential_2\"\n",
            "_________________________________________________________________\n",
            " Layer (type)                Output Shape              Param #   \n",
            "=================================================================\n",
            " conv2d_7 (Conv2D)           (None, 26, 26, 96)        960       \n",
            "                                                                 \n",
            " max_pooling2d_5 (MaxPoolin  (None, 12, 12, 96)        0         \n",
            " g2D)                                                            \n",
            "                                                                 \n",
            " conv2d_8 (Conv2D)           (None, 12, 12, 256)       614656    \n",
            "                                                                 \n",
            " max_pooling2d_6 (MaxPoolin  (None, 5, 5, 256)         0         \n",
            " g2D)                                                            \n",
            "                                                                 \n",
            " conv2d_9 (Conv2D)           (None, 5, 5, 384)         885120    \n",
            "                                                                 \n",
            " conv2d_10 (Conv2D)          (None, 5, 5, 384)         1327488   \n",
            "                                                                 \n",
            " conv2d_11 (Conv2D)          (None, 5, 5, 256)         884992    \n",
            "                                                                 \n",
            " max_pooling2d_7 (MaxPoolin  (None, 2, 2, 256)         0         \n",
            " g2D)                                                            \n",
            "                                                                 \n",
            " flatten_2 (Flatten)         (None, 1024)              0         \n",
            "                                                                 \n",
            " dense_6 (Dense)             (None, 4096)              4198400   \n",
            "                                                                 \n",
            " dropout_2 (Dropout)         (None, 4096)              0         \n",
            "                                                                 \n",
            " dense_7 (Dense)             (None, 4096)              16781312  \n",
            "                                                                 \n",
            " dropout_3 (Dropout)         (None, 4096)              0         \n",
            "                                                                 \n",
            " dense_8 (Dense)             (None, 10)                40970     \n",
            "                                                                 \n",
            "=================================================================\n",
            "Total params: 24733898 (94.35 MB)\n",
            "Trainable params: 24733898 (94.35 MB)\n",
            "Non-trainable params: 0 (0.00 Byte)\n",
            "_________________________________________________________________\n"
          ]
        }
      ],
      "source": [
        "model = keras.models.Sequential(\n",
        "    [\n",
        "        keras.layers.Input(shape=(28,28,1)),\n",
        "        keras.layers.Conv2D(96, kernel_size=(3,3), strides=(1,1), activation='relu'),\n",
        "        keras.layers.MaxPool2D(pool_size=(3,3), strides=(2,2)),\n",
        "        keras.layers.Conv2D(256, kernel_size=(5,5), activation='relu',padding='same'),\n",
        "        keras.layers.MaxPool2D(pool_size=(3,3), strides=(2,2)),\n",
        "        keras.layers.Conv2D(384, kernel_size=(3,3), activation='relu',padding='same'),\n",
        "        keras.layers.Conv2D(384, kernel_size=(3,3), activation='relu',padding='same'),\n",
        "        keras.layers.Conv2D(256, kernel_size=(3,3), activation='relu',padding='same'),\n",
        "        keras.layers.MaxPool2D(pool_size=(3,3), strides=(2,2)),\n",
        "        keras.layers.Flatten(),\n",
        "        keras.layers.Dense(4096, activation='relu'),\n",
        "        keras.layers.Dropout(0.5),\n",
        "        keras.layers.Dense(4096, activation='relu'),\n",
        "        keras.layers.Dropout(0.5),\n",
        "        keras.layers.Dense(10, activation='softmax')\n",
        "    ]\n",
        ")\n",
        "\n",
        "model.summary()"
      ]
    },
    {
      "cell_type": "code",
      "execution_count": 36,
      "metadata": {
        "id": "kHv9kzcDyk-u"
      },
      "outputs": [],
      "source": [
        "model.compile(loss=\"categorical_crossentropy\",\n",
        "                optimizer=tf.keras.optimizers.Adam(),\n",
        "                metrics=['accuracy'])"
      ]
    },
    {
      "cell_type": "code",
      "execution_count": 37,
      "metadata": {
        "id": "-_ligSMTyk-u",
        "outputId": "8bfca67b-307a-4adf-efec-3aefc95d0aa0"
      },
      "outputs": [
        {
          "name": "stdout",
          "output_type": "stream",
          "text": [
            "Epoch 1/10\n"
          ]
        },
        {
          "name": "stderr",
          "output_type": "stream",
          "text": [
            "2024-03-05 18:10:41.814688: I external/local_xla/xla/stream_executor/cuda/cuda_dnn.cc:454] Loaded cuDNN version 8904\n",
            "2024-03-05 18:10:42.014926: I external/local_tsl/tsl/platform/default/subprocess.cc:304] Start cannot spawn child process: No such file or directory\n",
            "2024-03-05 18:10:42.508663: I external/local_tsl/tsl/platform/default/subprocess.cc:304] Start cannot spawn child process: No such file or directory\n",
            "2024-03-05 18:10:42.979913: I external/local_xla/xla/service/service.cc:168] XLA service 0x7f8d59cf8a00 initialized for platform CUDA (this does not guarantee that XLA will be used). Devices:\n",
            "2024-03-05 18:10:42.979945: I external/local_xla/xla/service/service.cc:176]   StreamExecutor device (0): NVIDIA GeForce RTX 3060 Laptop GPU, Compute Capability 8.6\n",
            "2024-03-05 18:10:43.005577: I tensorflow/compiler/mlir/tensorflow/utils/dump_mlir_util.cc:269] disabling MLIR crash reproducer, set env var `MLIR_CRASH_REPRODUCER_DIRECTORY` to enable.\n",
            "WARNING: All log messages before absl::InitializeLog() is called are written to STDERR\n",
            "I0000 00:00:1709637043.219781   88362 device_compiler.h:186] Compiled cluster using XLA!  This line is logged at most once for the lifetime of the process.\n"
          ]
        },
        {
          "name": "stdout",
          "output_type": "stream",
          "text": [
            "14000/14000 [==============================] - 172s 12ms/step - loss: 0.1211 - accuracy: 0.9684 - val_loss: 0.0527 - val_accuracy: 0.9880\n",
            "Epoch 2/10\n",
            "14000/14000 [==============================] - 171s 12ms/step - loss: 0.0735 - accuracy: 0.9840 - val_loss: 0.0552 - val_accuracy: 0.9865\n",
            "Epoch 3/10\n",
            "14000/14000 [==============================] - 174s 12ms/step - loss: 0.0707 - accuracy: 0.9845 - val_loss: 0.0503 - val_accuracy: 0.9870\n",
            "Epoch 4/10\n",
            "14000/14000 [==============================] - 177s 13ms/step - loss: 0.0675 - accuracy: 0.9850 - val_loss: 0.0575 - val_accuracy: 0.9876\n",
            "Epoch 5/10\n",
            "14000/14000 [==============================] - 176s 13ms/step - loss: 0.0691 - accuracy: 0.9848 - val_loss: 0.0498 - val_accuracy: 0.9892\n",
            "Epoch 6/10\n",
            "14000/14000 [==============================] - 175s 13ms/step - loss: 0.0736 - accuracy: 0.9837 - val_loss: 0.0600 - val_accuracy: 0.9879\n",
            "Epoch 7/10\n",
            "14000/14000 [==============================] - 177s 13ms/step - loss: 0.0698 - accuracy: 0.9846 - val_loss: 0.0897 - val_accuracy: 0.9740\n",
            "Epoch 8/10\n",
            "14000/14000 [==============================] - 181s 13ms/step - loss: 0.0699 - accuracy: 0.9848 - val_loss: 0.0769 - val_accuracy: 0.9812\n",
            "Epoch 9/10\n",
            "14000/14000 [==============================] - 178s 13ms/step - loss: 0.0797 - accuracy: 0.9835 - val_loss: 0.0506 - val_accuracy: 0.9910\n",
            "Epoch 10/10\n",
            "14000/14000 [==============================] - 178s 13ms/step - loss: 0.0728 - accuracy: 0.9845 - val_loss: 0.0522 - val_accuracy: 0.9869\n"
          ]
        }
      ],
      "source": [
        "history_alexnet = model.fit(Xtrain, Ytrain,epochs=10, batch_size=16, validation_data=(Xtest,Ytest))"
      ]
    },
    {
      "cell_type": "code",
      "execution_count": 38,
      "metadata": {
        "id": "vZQqhjuVyk-v"
      },
      "outputs": [],
      "source": [
        "with open('history_alexnet_concat.pkl', 'wb') as f:\n",
        "    pickle.dump(history_alexnet, f)"
      ]
    },
    {
      "cell_type": "code",
      "execution_count": 15,
      "metadata": {
        "id": "SS5FjyXSyk-v"
      },
      "outputs": [],
      "source": [
        "with open('data_100persen/history_alexnet.pkl', 'rb') as f:\n",
        "    history_alexnet = pickle.load(f)"
      ]
    },
    {
      "cell_type": "code",
      "execution_count": 39,
      "metadata": {
        "id": "ejvwzx7myk-v",
        "outputId": "d0be45d9-ec29-4dc5-a15e-e82a4a353fcf"
      },
      "outputs": [
        {
          "data": {
            "image/png": "[encoded data removed]",
            "text/plain": [
              "<Figure size 640x480 with 1 Axes>"
            ]
          },
          "metadata": {},
          "output_type": "display_data"
        },
        {
          "data": {
            "image/png": "[encoded data removed]",
            "text/plain": [
              "<Figure size 640x480 with 1 Axes>"
            ]
          },
          "metadata": {},
          "output_type": "display_data"
        }
      ],
      "source": [
        "plot_loss_curves(history_alexnet)"
      ]
    },
    {
      "cell_type": "markdown",
      "metadata": {
        "id": "LsDNeL6g-0Z3"
      },
      "source": [
        "LENET"
      ]
    },
    {
      "cell_type": "code",
      "execution_count": 40,
      "metadata": {
        "id": "0HRjhDsi-0Z3",
        "outputId": "3f328bc1-7d4c-44f0-c26a-158191c93798"
      },
      "outputs": [
        {
          "name": "stdout",
          "output_type": "stream",
          "text": [
            "Model: \"sequential_3\"\n",
            "_________________________________________________________________\n",
            " Layer (type)                Output Shape              Param #   \n",
            "=================================================================\n",
            " conv2d_12 (Conv2D)          (None, 24, 24, 6)         156       \n",
            "                                                                 \n",
            " max_pooling2d_8 (MaxPoolin  (None, 12, 12, 6)         0         \n",
            " g2D)                                                            \n",
            "                                                                 \n",
            " conv2d_13 (Conv2D)          (None, 8, 8, 16)          2416      \n",
            "                                                                 \n",
            " max_pooling2d_9 (MaxPoolin  (None, 4, 4, 16)          0         \n",
            " g2D)                                                            \n",
            "                                                                 \n",
            " flatten_3 (Flatten)         (None, 256)               0         \n",
            "                                                                 \n",
            " dense_9 (Dense)             (None, 120)               30840     \n",
            "                                                                 \n",
            " dense_10 (Dense)            (None, 84)                10164     \n",
            "                                                                 \n",
            " dense_11 (Dense)            (None, 10)                850       \n",
            "                                                                 \n",
            "=================================================================\n",
            "Total params: 44426 (173.54 KB)\n",
            "Trainable params: 44426 (173.54 KB)\n",
            "Non-trainable params: 0 (0.00 Byte)\n",
            "_________________________________________________________________\n"
          ]
        }
      ],
      "source": [
        "model = keras.models.Sequential(\n",
        "    [\n",
        "      keras.layers.Input((28,28,1)),\n",
        "      keras.layers.Conv2D(6, kernel_size=(5,5), activation='sigmoid'),\n",
        "      keras.layers.MaxPool2D(pool_size=2, strides=(2,2)),\n",
        "      keras.layers.Conv2D(16, kernel_size=(5,5), activation='sigmoid'),\n",
        "      keras.layers.MaxPool2D(pool_size=2, strides=(2,2)),\n",
        "      keras.layers.Flatten(),\n",
        "      keras.layers.Dense(120, activation='sigmoid'),\n",
        "      keras.layers.Dense(84, activation='sigmoid'),\n",
        "      keras.layers.Dense(10, activation='softmax')\n",
        "    ]\n",
        ")\n",
        "\n",
        "model.summary()"
      ]
    },
    {
      "cell_type": "code",
      "execution_count": 41,
      "metadata": {
        "id": "qPxdPhiKyk-v"
      },
      "outputs": [],
      "source": [
        "model.compile(loss=\"categorical_crossentropy\",\n",
        "                optimizer=tf.keras.optimizers.Adam(),\n",
        "                metrics=['accuracy'])"
      ]
    },
    {
      "cell_type": "code",
      "execution_count": 42,
      "metadata": {
        "id": "5pMT-C2_yk-w",
        "outputId": "dbf48fad-6c57-47ac-c486-3fc4c29198f8"
      },
      "outputs": [
        {
          "name": "stdout",
          "output_type": "stream",
          "text": [
            "Epoch 1/10\n",
            "14000/14000 [==============================] - 80s 5ms/step - loss: 0.1936 - accuracy: 0.9402 - val_loss: 0.0544 - val_accuracy: 0.9835\n",
            "Epoch 2/10\n",
            "14000/14000 [==============================] - 78s 6ms/step - loss: 0.0485 - accuracy: 0.9852 - val_loss: 0.0456 - val_accuracy: 0.9859\n",
            "Epoch 3/10\n",
            "14000/14000 [==============================] - 78s 6ms/step - loss: 0.0367 - accuracy: 0.9889 - val_loss: 0.0376 - val_accuracy: 0.9883\n",
            "Epoch 4/10\n",
            "14000/14000 [==============================] - 79s 6ms/step - loss: 0.0300 - accuracy: 0.9911 - val_loss: 0.0324 - val_accuracy: 0.9905\n",
            "Epoch 5/10\n",
            "14000/14000 [==============================] - 88s 6ms/step - loss: 0.0256 - accuracy: 0.9921 - val_loss: 0.0318 - val_accuracy: 0.9907\n",
            "Epoch 6/10\n",
            "14000/14000 [==============================] - 80s 6ms/step - loss: 0.0223 - accuracy: 0.9931 - val_loss: 0.0373 - val_accuracy: 0.9894\n",
            "Epoch 7/10\n",
            "14000/14000 [==============================] - 79s 6ms/step - loss: 0.0201 - accuracy: 0.9940 - val_loss: 0.0258 - val_accuracy: 0.9923\n",
            "Epoch 8/10\n",
            "14000/14000 [==============================] - 78s 6ms/step - loss: 0.0176 - accuracy: 0.9945 - val_loss: 0.0267 - val_accuracy: 0.9926\n",
            "Epoch 9/10\n",
            "14000/14000 [==============================] - 79s 6ms/step - loss: 0.0162 - accuracy: 0.9950 - val_loss: 0.0266 - val_accuracy: 0.9927\n",
            "Epoch 10/10\n",
            "14000/14000 [==============================] - 80s 6ms/step - loss: 0.0144 - accuracy: 0.9954 - val_loss: 0.0307 - val_accuracy: 0.9916\n"
          ]
        }
      ],
      "source": [
        "history_lenet = model.fit(Xtrain, Ytrain,epochs=10, batch_size=16, validation_data=(Xtest,Ytest))"
      ]
    },
    {
      "cell_type": "code",
      "execution_count": 43,
      "metadata": {
        "id": "VPYOkqT7yk-w"
      },
      "outputs": [],
      "source": [
        "with open('history_lenet_concat.pkl', 'wb') as f:\n",
        "    pickle.dump(history_lenet, f)"
      ]
    },
    {
      "cell_type": "code",
      "execution_count": 21,
      "metadata": {
        "id": "RtxZ6dg_yk-w"
      },
      "outputs": [],
      "source": [
        "with open('history_lenet.pkl', 'rb') as f:\n",
        "    history_lenet = pickle.load(f)"
      ]
    },
    {
      "cell_type": "code",
      "execution_count": 44,
      "metadata": {
        "id": "lRxrIr2Eyk-w",
        "outputId": "12380661-f3d0-4b6b-cb00-8d2e2ac483d1"
      },
      "outputs": [
        {
          "data": {
            "image/png": "[encoded data removed]",
            "text/plain": [
              "<Figure size 640x480 with 1 Axes>"
            ]
          },
          "metadata": {},
          "output_type": "display_data"
        },
        {
          "data": {
            "image/png": "[encoded data removed]",
            "text/plain": [
              "<Figure size 640x480 with 1 Axes>"
            ]
          },
          "metadata": {},
          "output_type": "display_data"
        }
      ],
      "source": [
        "plot_loss_curves(history_lenet)"
      ]
    },
    {
      "cell_type": "markdown",
      "metadata": {
        "id": "chDT0O8Z-0Z3"
      },
      "source": [
        "CUSTOM MODEL"
      ]
    },
    {
      "cell_type": "code",
      "execution_count": null,
      "metadata": {
        "id": "sYTlOBrUyk-w"
      },
      "outputs": [],
      "source": [
        "model = keras.models.Sequential(\n",
        "    [\n",
        "      keras.layers.Input((28,28,1)),\n",
        "      \n",
        "      keras.layers.Conv2D(6, kernel_size=(5,5), activation='sigmoid'),\n",
        "      keras.layers.MaxPool2D(pool_size=2, strides=(2,2)),\n",
        "      keras.layers.Conv2D(16, kernel_size=(5,5), activation='sigmoid'),\n",
        "      keras.layers.MaxPool2D(pool_size=2, strides=(2,2)),\n",
        "      keras.layers.Flatten(),\n",
        "      keras.layers.Dense(120, activation='sigmoid'),\n",
        "      keras.layers.Dense(84, activation='sigmoid'),\n",
        "      \n",
        "      keras.layers.Dense(10, activation='softmax')\n",
        "    ]\n",
        ")\n",
        "\n",
        "model.summary()"
      ]
    },
    {
      "cell_type": "code",
      "execution_count": null,
      "metadata": {},
      "outputs": [],
      "source": [
        "model.compile(loss=\"categorical_crossentropy\",\n",
        "                optimizer=tf.keras.optimizers.Adam(),\n",
        "                metrics=['accuracy'])"
      ]
    },
    {
      "cell_type": "code",
      "execution_count": null,
      "metadata": {},
      "outputs": [],
      "source": [
        "history_custom = model.fit(Xtrain, Ytrain,epochs=10, batch_size=16, validation_data=(Xtest,Ytest))"
      ]
    },
    {
      "cell_type": "code",
      "execution_count": null,
      "metadata": {},
      "outputs": [],
      "source": [
        "with open('history_custom.pkl', 'wb') as f:\n",
        "    pickle.dump(history_custom, f)"
      ]
    },
    {
      "cell_type": "code",
      "execution_count": null,
      "metadata": {},
      "outputs": [],
      "source": [
        "with open('history_lenet.pkl', 'rb') as f:\n",
        "    history_custom = pickle.load(f)"
      ]
    },
    {
      "cell_type": "code",
      "execution_count": null,
      "metadata": {},
      "outputs": [],
      "source": [
        "plot_loss_curves(history_custom)"
      ]
    },
    {
      "cell_type": "markdown",
      "metadata": {
        "id": "i7Nw5stXyk-w"
      },
      "source": []
    }
  ],
  "metadata": {
    "colab": {
      "include_colab_link": true,
      "provenance": []
    },
    "kernelspec": {
      "display_name": "Python 3 (ipykernel)",
      "language": "python",
      "name": "python3"
    },
    "language_info": {
      "codemirror_mode": {
        "name": "ipython",
        "version": 3
      },
      "file_extension": ".py",
      "mimetype": "text/x-python",
      "name": "python",
      "nbconvert_exporter": "python",
      "pygments_lexer": "ipython3",
      "version": "3.10.13"
    }
  },
  "nbformat": 4,
  "nbformat_minor": 0
}
