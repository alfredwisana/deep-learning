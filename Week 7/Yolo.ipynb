{
 "cells": [
  {
   "cell_type": "code",
   "execution_count": 1,
   "metadata": {},
   "outputs": [],
   "source": [
    "import matplotlib.pyplot as plt\n",
    "from ultralytics import YOLO\n",
    "\n",
    "# from models.yolo import Model\n",
    "# from utils.general import set_logging\n",
    "import torch"
   ]
  },
  {
   "cell_type": "code",
   "execution_count": 2,
   "metadata": {},
   "outputs": [
    {
     "name": "stdout",
     "output_type": "stream",
     "text": [
      "New https://pypi.org/project/ultralytics/8.1.37 available 😃 Update with 'pip install -U ultralytics'\n",
      "Ultralytics YOLOv8.1.35 🚀 Python-3.10.13 torch-2.2.2+cu121 CUDA:0 (NVIDIA GeForce RTX 3060 Laptop GPU, 6144MiB)\n",
      "\u001b[34m\u001b[1mengine/trainer: \u001b[0mtask=detect, mode=train, model=yolov9c.pt, data=coco128.yaml, epochs=3, time=None, patience=100, batch=16, imgsz=640, save=True, save_period=-1, cache=False, device=None, workers=8, project=None, name=train9, exist_ok=False, pretrained=True, optimizer=auto, verbose=True, seed=0, deterministic=True, single_cls=False, rect=False, cos_lr=False, close_mosaic=10, resume=False, amp=True, fraction=1.0, profile=False, freeze=None, multi_scale=False, overlap_mask=True, mask_ratio=4, dropout=0.0, val=True, split=val, save_json=False, save_hybrid=False, conf=None, iou=0.7, max_det=300, half=False, dnn=False, plots=True, source=None, vid_stride=1, stream_buffer=False, visualize=False, augment=False, agnostic_nms=False, classes=None, retina_masks=False, embed=None, show=False, save_frames=False, save_txt=False, save_conf=False, save_crop=False, show_labels=True, show_conf=True, show_boxes=True, line_width=None, format=torchscript, keras=False, optimize=False, int8=False, dynamic=False, simplify=False, opset=None, workspace=4, nms=False, lr0=0.01, lrf=0.01, momentum=0.937, weight_decay=0.0005, warmup_epochs=3.0, warmup_momentum=0.8, warmup_bias_lr=0.1, box=7.5, cls=0.5, dfl=1.5, pose=12.0, kobj=1.0, label_smoothing=0.0, nbs=64, hsv_h=0.015, hsv_s=0.7, hsv_v=0.4, degrees=0.0, translate=0.1, scale=0.5, shear=0.0, perspective=0.0, flipud=0.0, fliplr=0.5, bgr=0.0, mosaic=1.0, mixup=0.0, copy_paste=0.0, auto_augment=randaugment, erasing=0.4, crop_fraction=1.0, cfg=None, tracker=botsort.yaml, save_dir=runs/detect/train9\n"
     ]
    },
    {
     "name": "stderr",
     "output_type": "stream",
     "text": [
      "2024-03-29 21:41:53.856322: E external/local_xla/xla/stream_executor/cuda/cuda_dnn.cc:9261] Unable to register cuDNN factory: Attempting to register factory for plugin cuDNN when one has already been registered\n",
      "2024-03-29 21:41:53.856399: E external/local_xla/xla/stream_executor/cuda/cuda_fft.cc:607] Unable to register cuFFT factory: Attempting to register factory for plugin cuFFT when one has already been registered\n",
      "2024-03-29 21:41:53.893965: E external/local_xla/xla/stream_executor/cuda/cuda_blas.cc:1515] Unable to register cuBLAS factory: Attempting to register factory for plugin cuBLAS when one has already been registered\n"
     ]
    },
    {
     "name": "stdout",
     "output_type": "stream",
     "text": [
      "\n",
      "                   from  n    params  module                                       arguments                     \n",
      "  0                  -1  1      1856  ultralytics.nn.modules.conv.Conv             [3, 64, 3, 2]                 \n",
      "  1                  -1  1     73984  ultralytics.nn.modules.conv.Conv             [64, 128, 3, 2]               \n",
      "  2                  -1  1    212864  ultralytics.nn.modules.block.RepNCSPELAN4    [128, 256, 128, 64, 1]        \n",
      "  3                  -1  1    164352  ultralytics.nn.modules.block.ADown           [256, 256]                    \n",
      "  4                  -1  1    847616  ultralytics.nn.modules.block.RepNCSPELAN4    [256, 512, 256, 128, 1]       \n",
      "  5                  -1  1    656384  ultralytics.nn.modules.block.ADown           [512, 512]                    \n",
      "  6                  -1  1   2857472  ultralytics.nn.modules.block.RepNCSPELAN4    [512, 512, 512, 256, 1]       \n",
      "  7                  -1  1    656384  ultralytics.nn.modules.block.ADown           [512, 512]                    \n",
      "  8                  -1  1   2857472  ultralytics.nn.modules.block.RepNCSPELAN4    [512, 512, 512, 256, 1]       \n",
      "  9                  -1  1    656896  ultralytics.nn.modules.block.SPPELAN         [512, 512, 256]               \n",
      " 10                  -1  1         0  torch.nn.modules.upsampling.Upsample         [None, 2, 'nearest']          \n",
      " 11             [-1, 6]  1         0  ultralytics.nn.modules.conv.Concat           [1]                           \n",
      " 12                  -1  1   3119616  ultralytics.nn.modules.block.RepNCSPELAN4    [1024, 512, 512, 256, 1]      \n",
      " 13                  -1  1         0  torch.nn.modules.upsampling.Upsample         [None, 2, 'nearest']          \n",
      " 14             [-1, 4]  1         0  ultralytics.nn.modules.conv.Concat           [1]                           \n",
      " 15                  -1  1    912640  ultralytics.nn.modules.block.RepNCSPELAN4    [1024, 256, 256, 128, 1]      \n",
      " 16                  -1  1    164352  ultralytics.nn.modules.block.ADown           [256, 256]                    \n",
      " 17            [-1, 12]  1         0  ultralytics.nn.modules.conv.Concat           [1]                           \n",
      " 18                  -1  1   2988544  ultralytics.nn.modules.block.RepNCSPELAN4    [768, 512, 512, 256, 1]       \n",
      " 19                  -1  1    656384  ultralytics.nn.modules.block.ADown           [512, 512]                    \n",
      " 20             [-1, 9]  1         0  ultralytics.nn.modules.conv.Concat           [1]                           \n",
      " 21                  -1  1   3119616  ultralytics.nn.modules.block.RepNCSPELAN4    [1024, 512, 512, 256, 1]      \n",
      " 22        [15, 18, 21]  1   5644480  ultralytics.nn.modules.head.Detect           [80, [256, 512, 512]]         \n",
      "YOLOv9c summary: 618 layers, 25590912 parameters, 25590896 gradients, 104.0 GFLOPs\n",
      "\n",
      "Transferred 937/937 items from pretrained weights\n",
      "\u001b[34m\u001b[1mTensorBoard: \u001b[0mStart with 'tensorboard --logdir runs/detect/train9', view at http://localhost:6006/\n",
      "Freezing layer 'model.22.dfl.conv.weight'\n",
      "\u001b[34m\u001b[1mAMP: \u001b[0mrunning Automatic Mixed Precision (AMP) checks with YOLOv8n...\n",
      "\u001b[34m\u001b[1mAMP: \u001b[0mchecks passed ✅\n"
     ]
    },
    {
     "name": "stderr",
     "output_type": "stream",
     "text": [
      "\u001b[34m\u001b[1mtrain: \u001b[0mScanning /home/alfred/anaconda3/envs/py310/Kuliah Sem 6/deep-learning/Week 7/datasets/coco128/labels/train2017.cache... 126 images, 2 backgrounds, 0 corrupt: 100%|██████████| 128/128 [00:00<?, ?it/s]\n",
      "\u001b[34m\u001b[1mval: \u001b[0mScanning /home/alfred/anaconda3/envs/py310/Kuliah Sem 6/deep-learning/Week 7/datasets/coco128/labels/train2017.cache... 126 images, 2 backgrounds, 0 corrupt: 100%|██████████| 128/128 [00:00<?, ?it/s]\n"
     ]
    },
    {
     "name": "stdout",
     "output_type": "stream",
     "text": [
      "Plotting labels to runs/detect/train9/labels.jpg... \n",
      "\u001b[34m\u001b[1moptimizer:\u001b[0m 'optimizer=auto' found, ignoring 'lr0=0.01' and 'momentum=0.937' and determining best 'optimizer', 'lr0' and 'momentum' automatically... \n",
      "\u001b[34m\u001b[1moptimizer:\u001b[0m AdamW(lr=0.000119, momentum=0.9) with parameter groups 154 weight(decay=0.0), 161 weight(decay=0.0005), 160 bias(decay=0.0)\n",
      "\u001b[34m\u001b[1mTensorBoard: \u001b[0mmodel graph visualization added ✅\n",
      "Image sizes 640 train, 640 val\n",
      "Using 8 dataloader workers\n",
      "Logging results to \u001b[1mruns/detect/train9\u001b[0m\n",
      "Starting training for 3 epochs...\n",
      "\n",
      "      Epoch    GPU_mem   box_loss   cls_loss   dfl_loss  Instances       Size\n"
     ]
    },
    {
     "name": "stderr",
     "output_type": "stream",
     "text": [
      "        1/3      11.1G     0.9649     0.9325      1.198        217        640: 100%|██████████| 8/8 [02:04<00:00, 15.52s/it]\n",
      "                 Class     Images  Instances      Box(P          R      mAP50  mAP50-95): 100%|██████████| 4/4 [00:10<00:00,  2.65s/it]"
     ]
    },
    {
     "name": "stdout",
     "output_type": "stream",
     "text": [
      "                   all        128        929      0.744      0.718      0.816      0.641\n"
     ]
    },
    {
     "name": "stderr",
     "output_type": "stream",
     "text": [
      "\n"
     ]
    },
    {
     "name": "stdout",
     "output_type": "stream",
     "text": [
      "\n",
      "      Epoch    GPU_mem   box_loss   cls_loss   dfl_loss  Instances       Size\n"
     ]
    },
    {
     "name": "stderr",
     "output_type": "stream",
     "text": [
      "        2/3      11.3G     0.9374     0.8487      1.161        218        640: 100%|██████████| 8/8 [01:51<00:00, 13.90s/it]\n",
      "                 Class     Images  Instances      Box(P          R      mAP50  mAP50-95): 100%|██████████| 4/4 [00:07<00:00,  1.75s/it]"
     ]
    },
    {
     "name": "stdout",
     "output_type": "stream",
     "text": [
      "                   all        128        929      0.794      0.745       0.83      0.665\n"
     ]
    },
    {
     "name": "stderr",
     "output_type": "stream",
     "text": [
      "\n"
     ]
    },
    {
     "name": "stdout",
     "output_type": "stream",
     "text": [
      "\n",
      "      Epoch    GPU_mem   box_loss   cls_loss   dfl_loss  Instances       Size\n"
     ]
    },
    {
     "name": "stderr",
     "output_type": "stream",
     "text": [
      "        3/3      11.2G     0.9186      0.752      1.178        215        640: 100%|██████████| 8/8 [01:37<00:00, 12.21s/it]\n",
      "                 Class     Images  Instances      Box(P          R      mAP50  mAP50-95): 100%|██████████| 4/4 [00:08<00:00,  2.05s/it]"
     ]
    },
    {
     "name": "stdout",
     "output_type": "stream",
     "text": [
      "                   all        128        929      0.801      0.757      0.834      0.673\n"
     ]
    },
    {
     "name": "stderr",
     "output_type": "stream",
     "text": [
      "\n"
     ]
    },
    {
     "name": "stdout",
     "output_type": "stream",
     "text": [
      "\n",
      "3 epochs completed in 0.106 hours.\n",
      "Optimizer stripped from runs/detect/train9/weights/last.pt, 51.7MB\n",
      "Optimizer stripped from runs/detect/train9/weights/best.pt, 51.7MB\n",
      "\n",
      "Validating runs/detect/train9/weights/best.pt...\n",
      "Ultralytics YOLOv8.1.35 🚀 Python-3.10.13 torch-2.2.2+cu121 CUDA:0 (NVIDIA GeForce RTX 3060 Laptop GPU, 6144MiB)\n",
      "YOLOv9c summary (fused): 384 layers, 25380928 parameters, 0 gradients, 102.7 GFLOPs\n"
     ]
    },
    {
     "name": "stderr",
     "output_type": "stream",
     "text": [
      "                 Class     Images  Instances      Box(P          R      mAP50  mAP50-95): 100%|██████████| 4/4 [00:10<00:00,  2.52s/it]\n"
     ]
    },
    {
     "name": "stdout",
     "output_type": "stream",
     "text": [
      "                   all        128        929      0.802      0.756      0.834      0.673\n",
      "                person        128        254      0.898      0.726      0.865      0.669\n",
      "               bicycle        128          6       0.83        0.5      0.658      0.513\n",
      "                   car        128         46      0.929       0.37      0.633      0.338\n",
      "            motorcycle        128          5      0.909          1      0.995      0.822\n",
      "              airplane        128          6      0.938          1      0.995      0.927\n",
      "                   bus        128          7      0.758      0.714      0.857      0.773\n",
      "                 train        128          3      0.839          1      0.995      0.963\n",
      "                 truck        128         12      0.937        0.5      0.677       0.44\n",
      "                  boat        128          6      0.764      0.546      0.681      0.489\n",
      "         traffic light        128         14      0.995      0.357      0.473      0.267\n",
      "             stop sign        128          2      0.851          1      0.995      0.995\n",
      "                 bench        128          9          1      0.747      0.877      0.609\n",
      "                  bird        128         16      0.972          1      0.995      0.693\n",
      "                   cat        128          4       0.88          1      0.995      0.948\n",
      "                   dog        128          9      0.858          1      0.995      0.889\n",
      "                 horse        128          2      0.667          1      0.995      0.799\n",
      "              elephant        128         17       0.91      0.941      0.944      0.827\n",
      "                  bear        128          1      0.693          1      0.995      0.895\n",
      "                 zebra        128          4      0.882          1      0.995      0.976\n",
      "               giraffe        128          9      0.862          1      0.995      0.821\n",
      "              backpack        128          6      0.773      0.667       0.68      0.435\n",
      "              umbrella        128         18      0.804      0.833      0.903      0.679\n",
      "               handbag        128         19      0.797      0.414      0.576      0.426\n",
      "                   tie        128          7      0.841      0.758      0.839      0.642\n",
      "              suitcase        128          4      0.904          1      0.995      0.683\n",
      "               frisbee        128          5      0.729        0.8      0.809       0.73\n",
      "                  skis        128          1      0.698          1      0.995      0.895\n",
      "             snowboard        128          7      0.905      0.857      0.893      0.829\n",
      "           sports ball        128          6      0.618      0.544      0.534      0.305\n",
      "                  kite        128         10      0.606        0.3      0.463      0.147\n",
      "          baseball bat        128          4      0.876          1      0.995        0.7\n",
      "        baseball glove        128          7       0.82      0.429      0.438      0.322\n",
      "            skateboard        128          5      0.766      0.663      0.818      0.532\n",
      "         tennis racket        128          7      0.916      0.714       0.72      0.551\n",
      "                bottle        128         18      0.768      0.552      0.715      0.445\n",
      "            wine glass        128         16      0.911      0.638      0.809      0.525\n",
      "                   cup        128         36      0.814       0.73      0.838      0.592\n",
      "                  fork        128          6      0.559      0.432      0.657      0.539\n",
      "                 knife        128         16      0.663      0.812      0.822      0.611\n",
      "                 spoon        128         22      0.867      0.682      0.742      0.577\n",
      "                  bowl        128         28      0.859       0.75      0.794      0.695\n",
      "                banana        128          1      0.692          1      0.995      0.995\n",
      "              sandwich        128          2      0.538          1      0.828      0.828\n",
      "                orange        128          4          1      0.885      0.995      0.806\n",
      "              broccoli        128         11      0.955      0.364      0.515       0.37\n",
      "                carrot        128         24       0.69       0.75      0.803      0.604\n",
      "               hot dog        128          2      0.668          1      0.995      0.995\n",
      "                 pizza        128          5      0.888          1      0.995      0.898\n",
      "                 donut        128         14      0.798          1       0.99      0.897\n",
      "                  cake        128          4      0.833          1      0.995      0.905\n",
      "                 chair        128         35      0.695      0.743      0.792      0.575\n",
      "                 couch        128          6        0.8          1      0.995      0.853\n",
      "          potted plant        128         14      0.791      0.814      0.856      0.651\n",
      "                   bed        128          3      0.824          1      0.995      0.836\n",
      "          dining table        128         13      0.849      0.692      0.757      0.686\n",
      "                toilet        128          2      0.819          1      0.995      0.995\n",
      "                    tv        128          2      0.729          1      0.995      0.946\n",
      "                laptop        128          3      0.568      0.667      0.736      0.651\n",
      "                 mouse        128          2          1          0      0.828      0.501\n",
      "                remote        128          8          1      0.618      0.726      0.635\n",
      "            cell phone        128          8      0.777        0.5      0.584      0.415\n",
      "             microwave        128          3      0.787          1      0.995      0.898\n",
      "                  oven        128          5      0.537        0.4      0.367      0.283\n",
      "                  sink        128          6      0.413      0.333      0.532      0.444\n",
      "          refrigerator        128          5      0.639        0.8      0.866      0.716\n",
      "                  book        128         29      0.681      0.369      0.559      0.341\n",
      "                 clock        128          9      0.897      0.971      0.984      0.828\n",
      "                  vase        128          2       0.48          1      0.995      0.995\n",
      "              scissors        128          1          1          0      0.995      0.199\n",
      "            teddy bear        128         21          1      0.814      0.936      0.701\n",
      "            toothbrush        128          5      0.721          1      0.995      0.853\n",
      "Speed: 0.8ms preprocess, 57.6ms inference, 0.0ms loss, 5.4ms postprocess per image\n",
      "Results saved to \u001b[1mruns/detect/train9\u001b[0m\n",
      "Ultralytics YOLOv8.1.35 🚀 Python-3.10.13 torch-2.2.2+cu121 CUDA:0 (NVIDIA GeForce RTX 3060 Laptop GPU, 6144MiB)\n",
      "YOLOv9c summary (fused): 384 layers, 25380928 parameters, 0 gradients, 102.7 GFLOPs\n"
     ]
    },
    {
     "name": "stderr",
     "output_type": "stream",
     "text": [
      "\u001b[34m\u001b[1mval: \u001b[0mScanning /home/alfred/anaconda3/envs/py310/Kuliah Sem 6/deep-learning/Week 7/datasets/coco128/labels/train2017.cache... 126 images, 2 backgrounds, 0 corrupt: 100%|██████████| 128/128 [00:00<?, ?it/s]\n",
      "                 Class     Images  Instances      Box(P          R      mAP50  mAP50-95): 100%|██████████| 8/8 [00:21<00:00,  2.71s/it]\n"
     ]
    },
    {
     "name": "stdout",
     "output_type": "stream",
     "text": [
      "                   all        128        929      0.813      0.746      0.836      0.674\n",
      "                person        128        254      0.917      0.717      0.865      0.675\n",
      "               bicycle        128          6      0.855        0.5      0.658      0.509\n",
      "                   car        128         46      0.939      0.338      0.633      0.344\n",
      "            motorcycle        128          5      0.914          1      0.995      0.822\n",
      "              airplane        128          6      0.943          1      0.995      0.927\n",
      "                   bus        128          7       0.78      0.714      0.863      0.778\n",
      "                 train        128          3      0.847          1      0.995      0.963\n",
      "                 truck        128         12      0.925        0.5      0.681       0.44\n",
      "                  boat        128          6      0.751      0.504      0.668      0.495\n",
      "         traffic light        128         14      0.982      0.357      0.478      0.264\n",
      "             stop sign        128          2      0.866          1      0.995      0.995\n",
      "                 bench        128          9          1      0.665      0.877      0.605\n",
      "                  bird        128         16      0.978          1      0.995      0.693\n",
      "                   cat        128          4      0.885          1      0.995      0.948\n",
      "                   dog        128          9      0.864          1      0.995      0.889\n",
      "                 horse        128          2      0.682          1      0.995      0.799\n",
      "              elephant        128         17      0.913      0.941      0.944       0.83\n",
      "                  bear        128          1      0.705          1      0.995      0.895\n",
      "                 zebra        128          4      0.887          1      0.995      0.976\n",
      "               giraffe        128          9      0.863          1      0.995      0.796\n",
      "              backpack        128          6      0.978      0.667      0.717      0.405\n",
      "              umbrella        128         18      0.819      0.833      0.903      0.681\n",
      "               handbag        128         19      0.789      0.394      0.571      0.428\n",
      "                   tie        128          7      0.839      0.746      0.839      0.658\n",
      "              suitcase        128          4      0.915          1      0.995      0.658\n",
      "               frisbee        128          5      0.747        0.8      0.809      0.731\n",
      "                  skis        128          1      0.713          1      0.995      0.895\n",
      "             snowboard        128          7      0.913      0.857      0.894      0.833\n",
      "           sports ball        128          6      0.614      0.535      0.535      0.322\n",
      "                  kite        128         10      0.632        0.3      0.462      0.147\n",
      "          baseball bat        128          4      0.873          1      0.995      0.676\n",
      "        baseball glove        128          7      0.845      0.429      0.437      0.351\n",
      "            skateboard        128          5      0.878        0.6      0.778       0.55\n",
      "         tennis racket        128          7      0.923      0.714       0.72      0.549\n",
      "                bottle        128         18       0.76      0.556      0.712      0.443\n",
      "            wine glass        128         16       0.89      0.506      0.786      0.512\n",
      "                   cup        128         36       0.83      0.679      0.836      0.591\n",
      "                  fork        128          6      0.523      0.371      0.581      0.479\n",
      "                 knife        128         16      0.673      0.812      0.822      0.625\n",
      "                 spoon        128         22      0.876      0.682      0.743      0.592\n",
      "                  bowl        128         28      0.872       0.75      0.794      0.697\n",
      "                banana        128          1      0.718          1      0.995      0.995\n",
      "              sandwich        128          2      0.553          1      0.995      0.995\n",
      "                orange        128          4          1      0.836      0.995      0.806\n",
      "              broccoli        128         11          1      0.348      0.521       0.38\n",
      "                carrot        128         24      0.689      0.708      0.812      0.608\n",
      "               hot dog        128          2       0.67          1      0.995      0.995\n",
      "                 pizza        128          5      0.898          1      0.995      0.898\n",
      "                 donut        128         14        0.8          1       0.99      0.897\n",
      "                  cake        128          4       0.84          1      0.995      0.905\n",
      "                 chair        128         35      0.715      0.743      0.789      0.562\n",
      "                 couch        128          6      0.811          1      0.995      0.839\n",
      "          potted plant        128         14       0.78      0.761      0.856      0.651\n",
      "                   bed        128          3      0.823          1      0.995      0.811\n",
      "          dining table        128         13      0.874      0.692      0.779      0.694\n",
      "                toilet        128          2      0.835          1      0.995      0.995\n",
      "                    tv        128          2       0.74          1      0.995      0.946\n",
      "                laptop        128          3      0.574      0.667      0.747      0.659\n",
      "                 mouse        128          2          1          0      0.828      0.502\n",
      "                remote        128          8          1      0.613      0.722      0.631\n",
      "            cell phone        128          8       0.81        0.5      0.584      0.393\n",
      "             microwave        128          3      0.798          1      0.995      0.898\n",
      "                  oven        128          5      0.545        0.4      0.368      0.282\n",
      "                  sink        128          6      0.418      0.333      0.533      0.434\n",
      "          refrigerator        128          5      0.643        0.8      0.866      0.679\n",
      "                  book        128         29      0.653      0.345      0.556      0.339\n",
      "                 clock        128          9      0.896      0.963      0.984      0.847\n",
      "                  vase        128          2      0.486          1      0.995      0.995\n",
      "              scissors        128          1          1          0      0.995      0.199\n",
      "            teddy bear        128         21          1      0.802      0.931      0.697\n",
      "            toothbrush        128          5      0.729          1      0.995      0.853\n",
      "Speed: 5.0ms preprocess, 126.7ms inference, 0.0ms loss, 11.0ms postprocess per image\n",
      "Results saved to \u001b[1mruns/detect/train92\u001b[0m\n"
     ]
    }
   ],
   "source": [
    "# Load a pretrained YOLO model (recommended for training)\n",
    "model = YOLO('yolov9c.pt')\n",
    "\n",
    "# Train the model using the 'coco128.yaml' dataset for 3 epochs\n",
    "results = model.train(data='coco128.yaml', epochs=3)\n",
    "\n",
    "# Evaluate the model's performance on the validation set\n",
    "results = model.val()\n",
    "\n",
    "# Perform object detection on an image using the model\n",
    "\n"
   ]
  },
  {
   "cell_type": "code",
   "execution_count": 3,
   "metadata": {},
   "outputs": [
    {
     "name": "stdout",
     "output_type": "stream",
     "text": [
      "\n",
      "Found https://ultralytics.com/images/bus.jpg locally at bus.jpg\n",
      "image 1/1 /home/alfred/anaconda3/envs/py310/Kuliah Sem 6/deep-learning/Week 7/bus.jpg: 640x480 5 persons, 1 bus, 41646.3ms\n",
      "Speed: 2995.8ms preprocess, 41646.3ms inference, 40.8ms postprocess per image at shape (1, 3, 640, 480)\n",
      "Ultralytics YOLOv8.1.35 🚀 Python-3.10.13 torch-2.2.2+cu121 CPU (12th Gen Intel Core(TM) i7-12700H)\n"
     ]
    },
    {
     "ename": "",
     "evalue": "",
     "output_type": "error",
     "traceback": [
      "\u001b[1;31mThe Kernel crashed while executing code in the current cell or a previous cell. \n",
      "\u001b[1;31mPlease review the code in the cell(s) to identify a possible cause of the failure. \n",
      "\u001b[1;31mClick <a href='https://aka.ms/vscodeJupyterKernelCrash'>here</a> for more info. \n",
      "\u001b[1;31mView Jupyter <a href='command:jupyter.viewOutput'>log</a> for further details."
     ]
    }
   ],
   "source": [
    "results = model('https://ultralytics.com/images/bus.jpg')\n",
    "\n",
    "# Export the model to ONNX format\n",
    "success = model.export(format='onnx')"
   ]
  },
  {
   "cell_type": "code",
   "execution_count": null,
   "metadata": {},
   "outputs": [],
   "source": [
    "# Validate the model\n",
    "metrics = model.val()  # no arguments needed, dataset and settings remembered\n",
    "metrics.box.map    # map50-95\n",
    "metrics.box.map50  # map50\n",
    "metrics.box.map75  # map75\n",
    "metrics.box.maps   # a list contains map50-95 of each category"
   ]
  },
  {
   "cell_type": "code",
   "execution_count": null,
   "metadata": {},
   "outputs": [],
   "source": [
    "import torch\n",
    "foo = torch.tensor([1,2,3])\n",
    "foo = foo.to('cuda')"
   ]
  },
  {
   "cell_type": "code",
   "execution_count": null,
   "metadata": {},
   "outputs": [],
   "source": []
  }
 ],
 "metadata": {
  "kernelspec": {
   "display_name": "py310",
   "language": "python",
   "name": "python3"
  },
  "language_info": {
   "codemirror_mode": {
    "name": "ipython",
    "version": 3
   },
   "file_extension": ".py",
   "mimetype": "text/x-python",
   "name": "python",
   "nbconvert_exporter": "python",
   "pygments_lexer": "ipython3",
   "version": "3.10.13"
  }
 },
 "nbformat": 4,
 "nbformat_minor": 2
}
